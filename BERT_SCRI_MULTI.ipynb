{
  "nbformat": 4,
  "nbformat_minor": 0,
  "metadata": {
    "colab": {
      "name": "BERT_SCRI-MULTI.ipynb",
      "version": "0.3.2",
      "provenance": [],
      "collapsed_sections": [],
      "toc_visible": true
    },
    "kernelspec": {
      "name": "python3",
      "display_name": "Python 3"
    },
    "accelerator": "GPU"
  },
  "cells": [
    {
      "cell_type": "markdown",
      "metadata": {
        "id": "dGe8DgTzk8Cy",
        "colab_type": "text"
      },
      "source": [
        "### Install Libraries "
      ]
    },
    {
      "cell_type": "code",
      "metadata": {
        "id": "YA4MapSQUrYG",
        "colab_type": "code",
        "colab": {}
      },
      "source": [
        "# ! apt install cuda"
      ],
      "execution_count": 0,
      "outputs": []
    },
    {
      "cell_type": "code",
      "metadata": {
        "id": "mihaPIWfcnV_",
        "colab_type": "code",
        "outputId": "435a1267-b597-43bc-d06c-dce0e90adc68",
        "colab": {
          "base_uri": "https://localhost:8080/",
          "height": 986
        }
      },
      "source": [
        "\n",
        "!pip install pytorch-pretrained-bert\n",
        "!pip install spacy\n",
        "!python -m spacy download en"
      ],
      "execution_count": 0,
      "outputs": [
        {
          "output_type": "stream",
          "text": [
            "Collecting pytorch-pretrained-bert\n",
            "\u001b[?25l  Downloading https://files.pythonhosted.org/packages/d7/e0/c08d5553b89973d9a240605b9c12404bcf8227590de62bae27acbcfe076b/pytorch_pretrained_bert-0.6.2-py3-none-any.whl (123kB)\n",
            "\r\u001b[K     |██▋                             | 10kB 9.8MB/s eta 0:00:01\r\u001b[K     |█████▎                          | 20kB 1.5MB/s eta 0:00:01\r\u001b[K     |████████                        | 30kB 2.2MB/s eta 0:00:01\r\u001b[K     |██████████▋                     | 40kB 1.6MB/s eta 0:00:01\r\u001b[K     |█████████████▎                  | 51kB 1.9MB/s eta 0:00:01\r\u001b[K     |███████████████▉                | 61kB 2.3MB/s eta 0:00:01\r\u001b[K     |██████████████████▌             | 71kB 2.7MB/s eta 0:00:01\r\u001b[K     |█████████████████████▏          | 81kB 3.0MB/s eta 0:00:01\r\u001b[K     |███████████████████████▉        | 92kB 3.4MB/s eta 0:00:01\r\u001b[K     |██████████████████████████▌     | 102kB 2.6MB/s eta 0:00:01\r\u001b[K     |█████████████████████████████▏  | 112kB 2.6MB/s eta 0:00:01\r\u001b[K     |███████████████████████████████▊| 122kB 2.6MB/s eta 0:00:01\r\u001b[K     |████████████████████████████████| 133kB 2.6MB/s \n",
            "\u001b[?25hRequirement already satisfied: numpy in /usr/local/lib/python3.6/dist-packages (from pytorch-pretrained-bert) (1.16.4)\n",
            "Requirement already satisfied: tqdm in /usr/local/lib/python3.6/dist-packages (from pytorch-pretrained-bert) (4.28.1)\n",
            "Requirement already satisfied: torch>=0.4.1 in /usr/local/lib/python3.6/dist-packages (from pytorch-pretrained-bert) (1.1.0)\n",
            "Collecting regex (from pytorch-pretrained-bert)\n",
            "\u001b[?25l  Downloading https://files.pythonhosted.org/packages/6f/4e/1b178c38c9a1a184288f72065a65ca01f3154df43c6ad898624149b8b4e0/regex-2019.06.08.tar.gz (651kB)\n",
            "\u001b[K     |████████████████████████████████| 655kB 40.6MB/s \n",
            "\u001b[?25hRequirement already satisfied: requests in /usr/local/lib/python3.6/dist-packages (from pytorch-pretrained-bert) (2.21.0)\n",
            "Requirement already satisfied: boto3 in /usr/local/lib/python3.6/dist-packages (from pytorch-pretrained-bert) (1.9.165)\n",
            "Requirement already satisfied: chardet<3.1.0,>=3.0.2 in /usr/local/lib/python3.6/dist-packages (from requests->pytorch-pretrained-bert) (3.0.4)\n",
            "Requirement already satisfied: idna<2.9,>=2.5 in /usr/local/lib/python3.6/dist-packages (from requests->pytorch-pretrained-bert) (2.8)\n",
            "Requirement already satisfied: urllib3<1.25,>=1.21.1 in /usr/local/lib/python3.6/dist-packages (from requests->pytorch-pretrained-bert) (1.24.3)\n",
            "Requirement already satisfied: certifi>=2017.4.17 in /usr/local/lib/python3.6/dist-packages (from requests->pytorch-pretrained-bert) (2019.3.9)\n",
            "Requirement already satisfied: botocore<1.13.0,>=1.12.165 in /usr/local/lib/python3.6/dist-packages (from boto3->pytorch-pretrained-bert) (1.12.165)\n",
            "Requirement already satisfied: s3transfer<0.3.0,>=0.2.0 in /usr/local/lib/python3.6/dist-packages (from boto3->pytorch-pretrained-bert) (0.2.1)\n",
            "Requirement already satisfied: jmespath<1.0.0,>=0.7.1 in /usr/local/lib/python3.6/dist-packages (from boto3->pytorch-pretrained-bert) (0.9.4)\n",
            "Requirement already satisfied: python-dateutil<3.0.0,>=2.1; python_version >= \"2.7\" in /usr/local/lib/python3.6/dist-packages (from botocore<1.13.0,>=1.12.165->boto3->pytorch-pretrained-bert) (2.5.3)\n",
            "Requirement already satisfied: docutils>=0.10 in /usr/local/lib/python3.6/dist-packages (from botocore<1.13.0,>=1.12.165->boto3->pytorch-pretrained-bert) (0.14)\n",
            "Requirement already satisfied: six>=1.5 in /usr/local/lib/python3.6/dist-packages (from python-dateutil<3.0.0,>=2.1; python_version >= \"2.7\"->botocore<1.13.0,>=1.12.165->boto3->pytorch-pretrained-bert) (1.12.0)\n",
            "Building wheels for collected packages: regex\n",
            "  Building wheel for regex (setup.py) ... \u001b[?25l\u001b[?25hdone\n",
            "  Stored in directory: /root/.cache/pip/wheels/35/e4/80/abf3b33ba89cf65cd262af8a22a5a999cc28fbfabea6b38473\n",
            "Successfully built regex\n",
            "Installing collected packages: regex, pytorch-pretrained-bert\n",
            "Successfully installed pytorch-pretrained-bert-0.6.2 regex-2019.6.8\n",
            "Requirement already satisfied: spacy in /usr/local/lib/python3.6/dist-packages (2.1.4)\n",
            "Requirement already satisfied: jsonschema<3.1.0,>=2.6.0 in /usr/local/lib/python3.6/dist-packages (from spacy) (2.6.0)\n",
            "Requirement already satisfied: wasabi<1.1.0,>=0.2.0 in /usr/local/lib/python3.6/dist-packages (from spacy) (0.2.2)\n",
            "Requirement already satisfied: requests<3.0.0,>=2.13.0 in /usr/local/lib/python3.6/dist-packages (from spacy) (2.21.0)\n",
            "Requirement already satisfied: srsly<1.1.0,>=0.0.5 in /usr/local/lib/python3.6/dist-packages (from spacy) (0.0.6)\n",
            "Requirement already satisfied: preshed<2.1.0,>=2.0.1 in /usr/local/lib/python3.6/dist-packages (from spacy) (2.0.1)\n",
            "Requirement already satisfied: plac<1.0.0,>=0.9.6 in /usr/local/lib/python3.6/dist-packages (from spacy) (0.9.6)\n",
            "Requirement already satisfied: blis<0.3.0,>=0.2.2 in /usr/local/lib/python3.6/dist-packages (from spacy) (0.2.4)\n",
            "Requirement already satisfied: murmurhash<1.1.0,>=0.28.0 in /usr/local/lib/python3.6/dist-packages (from spacy) (1.0.2)\n",
            "Requirement already satisfied: cymem<2.1.0,>=2.0.2 in /usr/local/lib/python3.6/dist-packages (from spacy) (2.0.2)\n",
            "Requirement already satisfied: thinc<7.1.0,>=7.0.2 in /usr/local/lib/python3.6/dist-packages (from spacy) (7.0.4)\n",
            "Requirement already satisfied: numpy>=1.15.0 in /usr/local/lib/python3.6/dist-packages (from spacy) (1.16.4)\n",
            "Requirement already satisfied: chardet<3.1.0,>=3.0.2 in /usr/local/lib/python3.6/dist-packages (from requests<3.0.0,>=2.13.0->spacy) (3.0.4)\n",
            "Requirement already satisfied: urllib3<1.25,>=1.21.1 in /usr/local/lib/python3.6/dist-packages (from requests<3.0.0,>=2.13.0->spacy) (1.24.3)\n",
            "Requirement already satisfied: idna<2.9,>=2.5 in /usr/local/lib/python3.6/dist-packages (from requests<3.0.0,>=2.13.0->spacy) (2.8)\n",
            "Requirement already satisfied: certifi>=2017.4.17 in /usr/local/lib/python3.6/dist-packages (from requests<3.0.0,>=2.13.0->spacy) (2019.3.9)\n",
            "Requirement already satisfied: tqdm<5.0.0,>=4.10.0 in /usr/local/lib/python3.6/dist-packages (from thinc<7.1.0,>=7.0.2->spacy) (4.28.1)\n",
            "Requirement already satisfied: en_core_web_sm==2.1.0 from https://github.com/explosion/spacy-models/releases/download/en_core_web_sm-2.1.0/en_core_web_sm-2.1.0.tar.gz#egg=en_core_web_sm==2.1.0 in /usr/local/lib/python3.6/dist-packages (2.1.0)\n",
            "\u001b[38;5;2m✔ Download and installation successful\u001b[0m\n",
            "You can now load the model via spacy.load('en_core_web_sm')\n",
            "\u001b[38;5;2m✔ Linking successful\u001b[0m\n",
            "/usr/local/lib/python3.6/dist-packages/en_core_web_sm -->\n",
            "/usr/local/lib/python3.6/dist-packages/spacy/data/en\n",
            "You can now load the model via spacy.load('en')\n"
          ],
          "name": "stdout"
        }
      ]
    },
    {
      "cell_type": "markdown",
      "metadata": {
        "id": "T5P7cAYRlESh",
        "colab_type": "text"
      },
      "source": [
        "### *Open the dataset and store it in a DataFrame*"
      ]
    },
    {
      "cell_type": "code",
      "metadata": {
        "id": "igtfrRmgdFh3",
        "colab_type": "code",
        "colab": {}
      },
      "source": [
        "import os\n",
        "import glob\n",
        "import re"
      ],
      "execution_count": 0,
      "outputs": []
    },
    {
      "cell_type": "code",
      "metadata": {
        "id": "UDtcUZb9jyqV",
        "colab_type": "code",
        "colab": {}
      },
      "source": [
        "files = glob.glob(\"*.csv\")"
      ],
      "execution_count": 0,
      "outputs": []
    },
    {
      "cell_type": "code",
      "metadata": {
        "id": "ylHBT7qyjzLT",
        "colab_type": "code",
        "colab": {}
      },
      "source": [
        "import pandas as pd\n",
        "import numpy as np"
      ],
      "execution_count": 0,
      "outputs": []
    },
    {
      "cell_type": "code",
      "metadata": {
        "id": "NfapR3n9kKJ4",
        "colab_type": "code",
        "outputId": "42f0d2b4-4168-4d58-eda4-15fe124be5ff",
        "colab": {
          "base_uri": "https://localhost:8080/",
          "height": 206
        }
      },
      "source": [
        "df = pd.read_csv(files[0]) # Read the first csv file\n",
        "df = df.dropna()           # Drop rows with NaN\n",
        "df.tail()"
      ],
      "execution_count": 0,
      "outputs": [
        {
          "output_type": "execute_result",
          "data": {
            "text/html": [
              "<div>\n",
              "<style scoped>\n",
              "    .dataframe tbody tr th:only-of-type {\n",
              "        vertical-align: middle;\n",
              "    }\n",
              "\n",
              "    .dataframe tbody tr th {\n",
              "        vertical-align: top;\n",
              "    }\n",
              "\n",
              "    .dataframe thead th {\n",
              "        text-align: right;\n",
              "    }\n",
              "</style>\n",
              "<table border=\"1\" class=\"dataframe\">\n",
              "  <thead>\n",
              "    <tr style=\"text-align: right;\">\n",
              "      <th></th>\n",
              "      <th>Document</th>\n",
              "      <th>Paragraph</th>\n",
              "      <th>Risk Classification</th>\n",
              "      <th>Risk Type</th>\n",
              "      <th>New Definition</th>\n",
              "    </tr>\n",
              "  </thead>\n",
              "  <tbody>\n",
              "    <tr>\n",
              "      <th>6041</th>\n",
              "      <td>ZSIndia_NDA_04.05.2017</td>\n",
              "      <td>No representation or promise relating to and n...</td>\n",
              "      <td>0.0</td>\n",
              "      <td>General</td>\n",
              "      <td>Others</td>\n",
              "    </tr>\n",
              "    <tr>\n",
              "      <th>6042</th>\n",
              "      <td>ZSIndia_NDA_04.05.2017</td>\n",
              "      <td>The Recipient acknowledges that due to the uni...</td>\n",
              "      <td>0.0</td>\n",
              "      <td>Injunctive Relief</td>\n",
              "      <td>Others</td>\n",
              "    </tr>\n",
              "    <tr>\n",
              "      <th>6043</th>\n",
              "      <td>ZSIndia_NDA_04.05.2017</td>\n",
              "      <td>The Parties intend to share Confidential Infor...</td>\n",
              "      <td>1.0</td>\n",
              "      <td>Purpose</td>\n",
              "      <td>Scope</td>\n",
              "    </tr>\n",
              "    <tr>\n",
              "      <th>6044</th>\n",
              "      <td>ZSIndia_NDA_04.05.2017</td>\n",
              "      <td>The confidentiality obligations hereunder shal...</td>\n",
              "      <td>0.0</td>\n",
              "      <td>Survival &amp; Exceptions</td>\n",
              "      <td>Others</td>\n",
              "    </tr>\n",
              "    <tr>\n",
              "      <th>6045</th>\n",
              "      <td>ZSIndia_NDA_04.05.2017</td>\n",
              "      <td>The Recipient may also make disclosures as may...</td>\n",
              "      <td>0.0</td>\n",
              "      <td>Survival &amp; Exceptions</td>\n",
              "      <td>Others</td>\n",
              "    </tr>\n",
              "  </tbody>\n",
              "</table>\n",
              "</div>"
            ],
            "text/plain": [
              "                    Document  ... New Definition\n",
              "6041  ZSIndia_NDA_04.05.2017  ...         Others\n",
              "6042  ZSIndia_NDA_04.05.2017  ...         Others\n",
              "6043  ZSIndia_NDA_04.05.2017  ...          Scope\n",
              "6044  ZSIndia_NDA_04.05.2017  ...         Others\n",
              "6045  ZSIndia_NDA_04.05.2017  ...         Others\n",
              "\n",
              "[5 rows x 5 columns]"
            ]
          },
          "metadata": {
            "tags": []
          },
          "execution_count": 5
        }
      ]
    },
    {
      "cell_type": "markdown",
      "metadata": {
        "id": "KOca99q9lUDn",
        "colab_type": "text"
      },
      "source": [
        "## Download the model. \n",
        "\n",
        "#### *I am using BERT base uncased*"
      ]
    },
    {
      "cell_type": "code",
      "metadata": {
        "id": "64NgMlXPkLVS",
        "colab_type": "code",
        "colab": {}
      },
      "source": [
        "if not os.path.isfile('uncased_L-12_H-768_A-12.zip'):\n",
        "\n",
        "  os.system( \"wget https://storage.googleapis.com/bert_models/2018_10_18/uncased_L-12_H-768_A-12.zip\")\n",
        "  \n",
        "else:\n",
        "  print(\"Weights already downloaded !\")"
      ],
      "execution_count": 0,
      "outputs": []
    },
    {
      "cell_type": "code",
      "metadata": {
        "id": "BTT9PKVir_kx",
        "colab_type": "code",
        "outputId": "d4e37e63-238c-45fd-ebf6-c132e04cb9b2",
        "colab": {
          "base_uri": "https://localhost:8080/",
          "height": 54
        }
      },
      "source": [
        "if not os.path.exists('unzip uncased_L-12_H-768_A-12/'):\n",
        "  os.system(\"unzip uncased_L-12_H-768_A-12.zip\")\n",
        "\n",
        "else:\n",
        "  print(\"Weights already extracted !\")\n",
        "!ls uncased_L-12_H-768_A-12/"
      ],
      "execution_count": 0,
      "outputs": [
        {
          "output_type": "stream",
          "text": [
            "bert_config.json\t\t     bert_model.ckpt.index  vocab.txt\n",
            "bert_model.ckpt.data-00000-of-00001  bert_model.ckpt.meta\n"
          ],
          "name": "stdout"
        }
      ]
    },
    {
      "cell_type": "markdown",
      "metadata": {
        "id": "pJahaevz0-sk",
        "colab_type": "text"
      },
      "source": [
        "##  Pre-process text\n",
        "\n",
        "Clean the data. Remove extra spaces.\n",
        "\n",
        "\n",
        "1.   ''\\<cp> CAPITALS\\</cp>'' for capital words \n",
        "2.   \\<no.> 9821 \\</no.> \n",
        "3.   \\<ph> Phone no. \\</ph> \n",
        "4.   \\<ml> e-mail \\<ml>\n",
        "\n"
      ]
    },
    {
      "cell_type": "code",
      "metadata": {
        "id": "FplJI6Gt1ftA",
        "colab_type": "code",
        "colab": {}
      },
      "source": [
        "data_df = df.filter(['Paragraph','Risk Classification','New Definition'], axis=1) # Create new dataframe with only text and labels,\n",
        "data_df = data_df.rename(columns={'Paragraph':'Text','Risk Classification':'Criticality','New Definition': 'Labels'})"
      ],
      "execution_count": 0,
      "outputs": []
    },
    {
      "cell_type": "markdown",
      "metadata": {
        "id": "9_NmUKE4VlEz",
        "colab_type": "text"
      },
      "source": [
        "Type 1 is RISK TYPE (New Definition)\n",
        "Type 2 is Risk Classification"
      ]
    },
    {
      "cell_type": "code",
      "metadata": {
        "id": "xBoXMNhu3VPw",
        "colab_type": "code",
        "outputId": "7f9d4849-eae5-412b-a86b-f4c3ca014234",
        "colab": {
          "base_uri": "https://localhost:8080/",
          "height": 206
        }
      },
      "source": [
        "data_df.head()"
      ],
      "execution_count": 0,
      "outputs": [
        {
          "output_type": "execute_result",
          "data": {
            "text/html": [
              "<div>\n",
              "<style scoped>\n",
              "    .dataframe tbody tr th:only-of-type {\n",
              "        vertical-align: middle;\n",
              "    }\n",
              "\n",
              "    .dataframe tbody tr th {\n",
              "        vertical-align: top;\n",
              "    }\n",
              "\n",
              "    .dataframe thead th {\n",
              "        text-align: right;\n",
              "    }\n",
              "</style>\n",
              "<table border=\"1\" class=\"dataframe\">\n",
              "  <thead>\n",
              "    <tr style=\"text-align: right;\">\n",
              "      <th></th>\n",
              "      <th>Text</th>\n",
              "      <th>Criticality</th>\n",
              "      <th>Labels</th>\n",
              "    </tr>\n",
              "  </thead>\n",
              "  <tbody>\n",
              "    <tr>\n",
              "      <th>0</th>\n",
              "      <td>Either party may disclose (“Disclosing Party”)...</td>\n",
              "      <td>1.0</td>\n",
              "      <td>Confidentiality</td>\n",
              "    </tr>\n",
              "    <tr>\n",
              "      <th>1</th>\n",
              "      <td>This Confidentiality and Non-Disclosure Agreem...</td>\n",
              "      <td>1.0</td>\n",
              "      <td>Legal</td>\n",
              "    </tr>\n",
              "    <tr>\n",
              "      <th>2</th>\n",
              "      <td>Receiving Party will use the Confidential Info...</td>\n",
              "      <td>1.0</td>\n",
              "      <td>Confidentiality</td>\n",
              "    </tr>\n",
              "    <tr>\n",
              "      <th>3</th>\n",
              "      <td>Prior to disclosing any Confidential Informati...</td>\n",
              "      <td>1.0</td>\n",
              "      <td>Confidentiality</td>\n",
              "    </tr>\n",
              "    <tr>\n",
              "      <th>4</th>\n",
              "      <td>The obligations contained in this Section 2 wi...</td>\n",
              "      <td>1.0</td>\n",
              "      <td>Confidentiality</td>\n",
              "    </tr>\n",
              "  </tbody>\n",
              "</table>\n",
              "</div>"
            ],
            "text/plain": [
              "                                                Text  ...           Labels\n",
              "0  Either party may disclose (“Disclosing Party”)...  ...  Confidentiality\n",
              "1  This Confidentiality and Non-Disclosure Agreem...  ...            Legal\n",
              "2  Receiving Party will use the Confidential Info...  ...  Confidentiality\n",
              "3  Prior to disclosing any Confidential Informati...  ...  Confidentiality\n",
              "4  The obligations contained in this Section 2 wi...  ...  Confidentiality\n",
              "\n",
              "[5 rows x 3 columns]"
            ]
          },
          "metadata": {
            "tags": []
          },
          "execution_count": 9
        }
      ]
    },
    {
      "cell_type": "code",
      "metadata": {
        "id": "9Nh_DuBh9la9",
        "colab_type": "code",
        "colab": {}
      },
      "source": [
        "def cleanse_text(inp):\n",
        "\n",
        "  # Oaps = Opening apostrophe\n",
        "  # Eaps = Ending apostrophe\n",
        "  # Oprs =  Opening paranthesis\n",
        "  # Eprs = Ending paranthesis\n",
        "  # Ocase = Casing (Capital) only to first element\n",
        "  # Wcase = Casing to whole word\n",
        "  # aps = Apostrophe - \"\n",
        "  \n",
        "  inp = inp.replace('“',\" <oaps> \").replace('”',\" <eaps> \").replace(\"(\",\" <oprs> \").replace(\")\",\" <eprs> \").replace(\"-\",\" - \").replace(\":\",\" : \").replace(\",\",\" , \").replace(\";\",\" , \").replace(\".\",\" . \").replace('\"',\"<aps>\").replace(\"‘\",\"<oaps>\").replace(\"’\",\"<eaps>\")\n",
        "  \n",
        "  inp = (re.sub( ' +',' ',str(inp) ) ) ## Removing extra spaces\n",
        "  \n",
        "  new_formt_sent = []\n",
        "  for word in inp.split(\" \"):\n",
        "    if len(word)<1: continue\n",
        "    if (not word.islower() and not word.isupper()) and word[0].isupper():\n",
        "      new_formt_sent.append(\"<ocase>\")\n",
        "      new_formt_sent.append(word)\n",
        "      new_formt_sent.append(\"</ocase>\")\n",
        "      continue\n",
        "      \n",
        "    if word.isupper():\n",
        "      new_formt_sent.append(\"<wcase>\")\n",
        "      new_formt_sent.append(word)\n",
        "      new_formt_sent.append(\"</wcase>\")\n",
        "      continue\n",
        "    \n",
        "    new_formt_sent.append(word)\n",
        "    \n",
        "  return \" \".join(new_formt_sent).lower()\n",
        "    "
      ],
      "execution_count": 0,
      "outputs": []
    },
    {
      "cell_type": "code",
      "metadata": {
        "id": "QWdBq9gwE6UR",
        "colab_type": "code",
        "colab": {}
      },
      "source": [
        "# never_split = [\"<oaps>\",\"<eaps>\",\"<oprs>\",\"<eprs>\",\"<oaps>\",\"<aps>\",\"<ocase>\",\"</ocase>\",\"<wcase>\",\"</wcase>\",]"
      ],
      "execution_count": 0,
      "outputs": []
    },
    {
      "cell_type": "code",
      "metadata": {
        "id": "YQJB6-YHCz7V",
        "colab_type": "code",
        "colab": {}
      },
      "source": [
        "vec_cleanse = np.vectorize(cleanse_text) # For applying the function parallely\n",
        "data_df['Text'] = vec_cleanse(data_df['Text']) # Passing list of paragraphs to list of functions and Output is a list of formatted clauses."
      ],
      "execution_count": 0,
      "outputs": []
    },
    {
      "cell_type": "code",
      "metadata": {
        "id": "gP7t6U7cDrxo",
        "colab_type": "code",
        "outputId": "4e68faf3-b987-4cd5-e7d4-fd9082178e3a",
        "colab": {
          "base_uri": "https://localhost:8080/",
          "height": 56
        }
      },
      "source": [
        "df['Paragraph'][1]"
      ],
      "execution_count": 0,
      "outputs": [
        {
          "output_type": "execute_result",
          "data": {
            "text/plain": [
              "'This Confidentiality and Non-Disclosure Agreement (“Agreement”) dated 20th March, 2017 (“Effective Date”) is entered into between Gramener Technology Solutions Pvt. Ltd., an Indian corporation with its principal place of business at Plot 9/2, 2nd floor, Survey No.64, HUDA Techno Enclave, Phase 2, Madhapur, Hyderabad – 500081, Telangana, India (“Gramener”) and Aditya Birla Management Corporate Pvt. Ltd., an Indian corporation with its principal places of business at Aditya Birla Centre, S.K. Ahire Marg, Worli, Mumbai 400 030 and Ahura Centre, ‘A’ wing, Ground Floor. Mahakali Caves Road, Andheri East, Mumbai – 400093 (“the Company”).  '"
            ]
          },
          "metadata": {
            "tags": []
          },
          "execution_count": 13
        }
      ]
    },
    {
      "cell_type": "code",
      "metadata": {
        "id": "8o4BWB01DYzK",
        "colab_type": "code",
        "outputId": "89023c70-bd39-4a86-ac7b-fea7585ac9e6",
        "colab": {
          "base_uri": "https://localhost:8080/",
          "height": 56
        }
      },
      "source": [
        "data_df['Text'][1]"
      ],
      "execution_count": 0,
      "outputs": [
        {
          "output_type": "execute_result",
          "data": {
            "text/plain": [
              "'<ocase> this </ocase> <ocase> confidentiality </ocase> and <ocase> non </ocase> - <ocase> disclosure </ocase> <ocase> agreement </ocase> <oprs> <oaps> <ocase> agreement </ocase> <eaps> <eprs> dated 20th <ocase> march </ocase> , 2017 <oprs> <oaps> <ocase> effective </ocase> <ocase> date </ocase> <eaps> <eprs> is entered into between <ocase> gramener </ocase> <ocase> technology </ocase> <ocase> solutions </ocase> <ocase> pvt </ocase> . <ocase> ltd </ocase> . , an <ocase> indian </ocase> corporation with its principal place of business at <ocase> plot </ocase> 9/2 , 2nd floor , <ocase> survey </ocase> <ocase> no </ocase> . 64 , <wcase> huda </wcase> <ocase> techno </ocase> <ocase> enclave </ocase> , <ocase> phase </ocase> 2 , <ocase> madhapur </ocase> , <ocase> hyderabad </ocase> – 500081 , <ocase> telangana </ocase> , <ocase> india </ocase> <oprs> <oaps> <ocase> gramener </ocase> <eaps> <eprs> and <ocase> aditya </ocase> <ocase> birla </ocase> <ocase> management </ocase> <ocase> corporate </ocase> <ocase> pvt </ocase> . <ocase> ltd </ocase> . , an <ocase> indian </ocase> corporation with its principal places of business at <ocase> aditya </ocase> <ocase> birla </ocase> <ocase> centre </ocase> , <wcase> s </wcase> . <wcase> k </wcase> . <ocase> ahire </ocase> <ocase> marg </ocase> , <ocase> worli </ocase> , <ocase> mumbai </ocase> 400 030 and <ocase> ahura </ocase> <ocase> centre </ocase> , <oaps>a<eaps> wing , <ocase> ground </ocase> <ocase> floor </ocase> . <ocase> mahakali </ocase> <ocase> caves </ocase> <ocase> road </ocase> , <ocase> andheri </ocase> <ocase> east </ocase> , <ocase> mumbai </ocase> – 400093 <oprs> <oaps> the <ocase> company </ocase> <eaps> <eprs> .'"
            ]
          },
          "metadata": {
            "tags": []
          },
          "execution_count": 14
        }
      ]
    },
    {
      "cell_type": "code",
      "metadata": {
        "id": "9behgyYUKzY-",
        "colab_type": "code",
        "outputId": "ece3f92b-7c20-4c53-8cab-dd4decd75d90",
        "colab": {
          "base_uri": "https://localhost:8080/",
          "height": 185
        }
      },
      "source": [
        "set(data_df['Labels'])"
      ],
      "execution_count": 0,
      "outputs": [
        {
          "output_type": "execute_result",
          "data": {
            "text/plain": [
              "{'Confidentiality',\n",
              " 'Finance',\n",
              " 'Intelectual Property',\n",
              " 'Legal',\n",
              " 'Non Compete',\n",
              " 'Non Solicitation',\n",
              " 'Others',\n",
              " 'Scope',\n",
              " 'Sub Contract'}"
            ]
          },
          "metadata": {
            "tags": []
          },
          "execution_count": 15
        }
      ]
    },
    {
      "cell_type": "code",
      "metadata": {
        "id": "Pu7rloO2-kUP",
        "colab_type": "code",
        "colab": {}
      },
      "source": [
        "if not os.path.exists(\"data/\"):\n",
        "  os.mkdir(\"data/\")\n",
        "  \n",
        "  \n",
        "data_df = data_df.sample(frac=1).reset_index(drop=True) # Shuffling the rows\n",
        "\n",
        "split_ratio = 0.2  # For Train/Val ratio\n",
        "\n",
        "val_df = data_df.iloc[-int(split_ratio*data_df.shape[0]):,:]\n",
        "data_df = data_df.iloc[:int((1-split_ratio)*data_df.shape[0]),:]\n",
        "data_df.to_csv(\"data/train.csv\")\n",
        "val_df.to_csv(\"data/val.csv\")\n"
      ],
      "execution_count": 0,
      "outputs": []
    },
    {
      "cell_type": "markdown",
      "metadata": {
        "id": "1o5KVS0lEj1V",
        "colab_type": "text"
      },
      "source": [
        "## BERT finetuning runner.\n",
        "\n",
        "*Taken from HuggingFace github repo on BERT-pytorch.*\n",
        "\n",
        "Reference : https://github.com/huggingface/pytorch-pretrained-BERT/blob/master/examples/run_classifier.py\n"
      ]
    },
    {
      "cell_type": "markdown",
      "metadata": {
        "id": "Kj_Txni0FyhH",
        "colab_type": "text"
      },
      "source": [
        "BERT is trained using TensorFlow. So, we need to convert [TensorFlow checkpoints](https://github.com/google-research/bert#pre-trained-models) to PyTorch.\n",
        "\n",
        "```\n",
        "# Example Code\n",
        "\n",
        "export BERT_BASE_DIR=/path/to/bert/uncased_L-12_H-768_A-12\n",
        "\n",
        "pytorch_pretrained_bert convert_tf_checkpoint_to_pytorch \\\n",
        "  $BERT_BASE_DIR/bert_model.ckpt \\\n",
        "  $BERT_BASE_DIR/bert_config.json \\\n",
        "  $BERT_BASE_DIR/pytorch_model.bin\n",
        "  \n",
        "```\n",
        "\n"
      ]
    },
    {
      "cell_type": "code",
      "metadata": {
        "id": "27Dy2x0kFkOq",
        "colab_type": "code",
        "colab": {}
      },
      "source": [
        "# !export BERT_BASE_DIR='content/uncased_L-12_H-768_A-12'\n",
        "\n",
        "if not os.path.isfile(\"uncased_L-12_H-768_A-12/pytorch_model.bin\"):\n",
        "  os.system('''pytorch_pretrained_bert convert_tf_checkpoint_to_pytorch \\\n",
        "    uncased_L-12_H-768_A-12/bert_model.ckpt \\\n",
        "    uncased_L-12_H-768_A-12/bert_config.json \\\n",
        "    uncased_L-12_H-768_A-12/pytorch_model.bin ''')\n",
        "else:\n",
        "  \n",
        "  print(\"Checkpoints already converted to PyTorch !!\")"
      ],
      "execution_count": 0,
      "outputs": []
    },
    {
      "cell_type": "code",
      "metadata": {
        "id": "h_VE0vZZE77d",
        "colab_type": "code",
        "colab": {}
      },
      "source": [
        "\n",
        "\n",
        " \n",
        "from __future__ import absolute_import, division, print_function\n",
        "\n",
        "import argparse\n",
        "import csv\n",
        "import logging\n",
        "import os\n",
        "import random\n",
        "import sys\n",
        "\n",
        "import numpy as np\n",
        "import torch\n",
        "from torch.utils.data import (DataLoader, RandomSampler, SequentialSampler,\n",
        "                              TensorDataset)\n",
        "from torch.utils.data.distributed import DistributedSampler\n",
        "from tqdm import tqdm, trange, tqdm_notebook\n",
        "\n",
        "from torch.nn import CrossEntropyLoss, MSELoss\n",
        "from scipy.stats import pearsonr, spearmanr\n",
        "from sklearn.metrics import matthews_corrcoef, f1_score\n",
        "\n",
        "from pytorch_pretrained_bert.file_utils import PYTORCH_PRETRAINED_BERT_CACHE, WEIGHTS_NAME, CONFIG_NAME\n",
        "from pytorch_pretrained_bert.modeling import BertForSequenceClassification, BertConfig,BertPreTrainedModel,BertModel\n",
        "from pytorch_pretrained_bert.tokenization import BertTokenizer\n",
        "from pytorch_pretrained_bert.optimization import BertAdam, WarmupLinearSchedule\n",
        "\n",
        "logger = logging.getLogger(__name__)"
      ],
      "execution_count": 0,
      "outputs": []
    },
    {
      "cell_type": "code",
      "metadata": {
        "id": "lObbUNgkO_jY",
        "colab_type": "code",
        "colab": {}
      },
      "source": [
        "class BertForMultiTaskSequenceClassification(BertPreTrainedModel):\n",
        "    \"\"\"BERT model for classification.\n",
        "    This module is composed of the BERT model with a linear layer on top of\n",
        "    the pooled output.\n",
        "    Params:\n",
        "        `config`: a BertConfig class instance with the configuration to build a new model.\n",
        "        `num_labels`: the number of classes for the classifier. Default = 2.\n",
        "    Inputs:\n",
        "        `input_ids`: a torch.LongTensor of shape [batch_size, sequence_length]\n",
        "            with the word token indices in the vocabulary(see the tokens preprocessing logic in the scripts\n",
        "            `extract_features.py`, `run_classifier.py` and `run_squad.py`)\n",
        "        `token_type_ids`: an optional torch.LongTensor of shape [batch_size, sequence_length] with the token\n",
        "            types indices selected in [0, 1]. Type 0 corresponds to a `sentence A` and type 1 corresponds to\n",
        "            a `sentence B` token (see BERT paper for more details).\n",
        "        `attention_mask`: an optional torch.LongTensor of shape [batch_size, sequence_length] with indices\n",
        "            selected in [0, 1]. It's a mask to be used if the input sequence length is smaller than the max\n",
        "            input sequence length in the current batch. It's the mask that we typically use for attention when\n",
        "            a batch has varying length sentences.\n",
        "        `labels`: labels for the classification output: torch.LongTensor of shape [batch_size]\n",
        "            with indices selected in [0, ..., num_labels].\n",
        "    Outputs:\n",
        "        if `labels` is not `None`:\n",
        "            Outputs the CrossEntropy classification loss of the output with the labels.\n",
        "        if `labels` is `None`:\n",
        "            Outputs the classification logits of shape [batch_size, num_labels].\n",
        "    Example usage:\n",
        "    ```python\n",
        "    # Already been converted into WordPiece token ids\n",
        "    input_ids = torch.LongTensor([[31, 51, 99], [15, 5, 0]])\n",
        "    input_mask = torch.LongTensor([[1, 1, 1], [1, 1, 0]])\n",
        "    token_type_ids = torch.LongTensor([[0, 0, 1], [0, 1, 0]])\n",
        "    config = BertConfig(vocab_size_or_config_json_file=32000, hidden_size=768,\n",
        "        num_hidden_layers=12, num_attention_heads=12, intermediate_size=3072)\n",
        "    num_labels = 2\n",
        "    model = BertForSequenceClassification(config, num_labels)\n",
        "    logits = model(input_ids, token_type_ids, input_mask)\n",
        "    ```\n",
        "    \"\"\"\n",
        "    def __init__(self, config, task1_num_labels=2,task2_num_labels=2):\n",
        "        super(BertForMultiTaskSequenceClassification, self).__init__(config)\n",
        "        self.task1_num_labels = task1_num_labels\n",
        "        self.task2_num_labels = task2_num_labels\n",
        "        self.bert = BertModel(config)\n",
        "        self.dropout = torch.nn.Dropout(config.hidden_dropout_prob)\n",
        "        self.task1_classifier = torch.nn.Linear(config.hidden_size, task1_num_labels)\n",
        "        self.task2_classifier = torch.nn.Linear(config.hidden_size, task2_num_labels)\n",
        "        self.apply(self.init_bert_weights)\n",
        "\n",
        "    def forward(self, input_ids, token_type_ids=None, attention_mask=None, task1_labels=None,task2_labels=None):\n",
        "        _, pooled_output = self.bert(input_ids, token_type_ids, attention_mask, output_all_encoded_layers=False)\n",
        "        pooled_output = self.dropout(pooled_output)\n",
        "        \n",
        "\n",
        "        task1_logits = self.task1_classifier(pooled_output)\n",
        "        \n",
        "#         elif task_name == 'task2':\n",
        "        task2_logits = self.task2_classifier(pooled_output)\n",
        "        \n",
        "#         if labels is not None and task_name == 'task1':\n",
        "        if task1_labels is not None and task1_labels is not None:\n",
        "            loss_fct = CrossEntropyLoss()\n",
        "            task1_loss = loss_fct(task1_logits.view(-1, self.task1_num_labels), task1_labels.view(-1))\n",
        "#             return loss\n",
        "          \n",
        "#         elif labels is not None and task_name == 'task2':\n",
        "#             loss_fct = CrossEntropyLoss()\n",
        "            task2_loss = loss_fct(task2_logits.view(-1, self.task2_num_labels), task2_labels.view(-1))\n",
        "            return task1_loss,task2_loss\n",
        "          \n",
        "        else:\n",
        "            return task1_logits,task2_logits\n",
        "        \n",
        "    def freeze_bert_encoder(self):\n",
        "        for param in self.bert.parameters():\n",
        "            param.requires_grad = False\n",
        "    \n",
        "    def unfreeze_bert_encoder(self):\n",
        "        for param in self.bert.parameters():\n",
        "            param.requires_grad = True"
      ],
      "execution_count": 0,
      "outputs": []
    },
    {
      "cell_type": "code",
      "metadata": {
        "id": "n-EXvYo_4I4R",
        "colab_type": "code",
        "colab": {}
      },
      "source": [
        "output_dir_models = 'model_checkpoints_and_outputs/'\n",
        "if not os.path.exists(output_dir_models):\n",
        "  os.mkdir(output_dir_models)\n",
        "\n",
        "\n",
        "cache_dir = 'cache_from_model/'\n",
        "if not os.path.exists(cache_dir):\n",
        "  os.mkdir(cache_dir)\n",
        "\n",
        "  \n",
        "args = {\n",
        "    \"train_size\": -1,\n",
        "    \"val_size\": -1,\n",
        "    \"full_data_dir\": 'data/',\n",
        "    \"data_dir\": 'data/',\n",
        "    \"cache_dir\": cache_dir,\n",
        "    \"task_name\": \"SCRI\",\n",
        "    \"no_cuda\": False,\n",
        "    \"bert_model\": 'uncased_L-12_H-768_A-12/',\n",
        "    \"output_dir\": output_dir_models,\n",
        "    \"max_seq_length\": 512,\n",
        "    \"do_train\": True,\n",
        "    \"do_eval\": True,\n",
        "    \"do_lower_case\": True,\n",
        "    \"train_batch_size\": 8,\n",
        "    \"eval_batch_size\": 8,\n",
        "    \"learning_rate\": 3e-5,\n",
        "    \"num_train_epochs\": 6.0,\n",
        "    \"warmup_proportion\": 0.1,\n",
        "    \"no_cuda\": False,\n",
        "    \"local_rank\": -1,\n",
        "    \"seed\": 42,\n",
        "    \"gradient_accumulation_steps\": 1,\n",
        "    \"optimize_on_cpu\": False,\n",
        "    \"fp16\": False,\n",
        "    \"loss_scale\": 128\n",
        "}\n",
        "\n"
      ],
      "execution_count": 0,
      "outputs": []
    },
    {
      "cell_type": "code",
      "metadata": {
        "id": "DWfFKg-yHXZ5",
        "colab_type": "code",
        "colab": {}
      },
      "source": [
        "\n",
        "class InputExample(object):\n",
        "    \"\"\"A single training/test example for simple sequence classification.\"\"\"\n",
        "\n",
        "    def __init__(self, guid, text_a, text_b=None, task1_label=None,task2_label=None):\n",
        "        \"\"\"Constructs a InputExample.\n",
        "        Args:\n",
        "            guid: Unique id for the example.\n",
        "            text_a: string. The untokenized text of the first sequence. For single\n",
        "            sequence tasks, only this sequence must be specified.\n",
        "            text_b: (Optional) string. The untokenized text of the second sequence.\n",
        "            Only must be specified for sequence pair tasks.\n",
        "            label: (Optional) string. The label of the example. This should be\n",
        "            specified for train and dev examples, but not for test examples.\n",
        "        \"\"\"\n",
        "        self.guid = guid\n",
        "        self.text_a = text_a\n",
        "        self.text_b = text_b\n",
        "        self.task1_label = task1_label\n",
        "        self.task2_label = task2_label"
      ],
      "execution_count": 0,
      "outputs": []
    },
    {
      "cell_type": "code",
      "metadata": {
        "id": "5sNf82bFH9Xo",
        "colab_type": "code",
        "colab": {}
      },
      "source": [
        "class InputFeatures(object):\n",
        "    \"\"\"A single set of features of data.\n",
        "    \n",
        "    Args: \n",
        "         input_ids : Numerical ids for tokenized text\n",
        "         input_mask : For padding, 0 and for actual tokens, it is 1.\n",
        "         segment_ids : If two sentences are the input(for LM training or MRPC task), 0s for 1 and 1s for 2nd\n",
        "                       If only one sentence is used, use 1s.\n",
        "         label_ids : One-hot encoded labels for text\n",
        "    \n",
        "    \"\"\"\n",
        "\n",
        "    def __init__(self, input_ids, input_mask, segment_ids, task1_label_id,task2_label_id):\n",
        "        self.input_ids = input_ids\n",
        "        self.input_mask = input_mask\n",
        "        self.segment_ids = segment_ids\n",
        "        self.task1_label_id = task1_label_id\n",
        "        self.task2_label_id = task2_label_id\n"
      ],
      "execution_count": 0,
      "outputs": []
    },
    {
      "cell_type": "code",
      "metadata": {
        "id": "6HoPvmlqIzLJ",
        "colab_type": "code",
        "colab": {}
      },
      "source": [
        "\n",
        "\n",
        "class DataProcessor(object):\n",
        "    \"\"\"Base class for data converters for sequence classification data sets.\"\"\"\n",
        "\n",
        "    def get_train_examples(self, data_dir):\n",
        "        \"\"\"Gets a collection of `InputExample`s for the train set.\"\"\"\n",
        "        raise NotImplementedError()\n",
        "\n",
        "    def get_dev_examples(self, data_dir):\n",
        "        \"\"\"Gets a collection of `InputExample`s for the dev set.\"\"\"\n",
        "        raise NotImplementedError()\n",
        "        \n",
        "    def get_test_examples(self, data_dir):\n",
        "        \"\"\"Gets a collection of `InputExample`s for the dev set.\"\"\"\n",
        "        raise NotImplementedError() \n",
        "\n",
        "    def get_labels(self):\n",
        "        \"\"\"Gets the list of labels for this data set.\"\"\"\n",
        "        raise NotImplementedError()\n",
        "\n",
        "    @classmethod\n",
        "    def _read_csv(cls, input_file, quotechar=None):\n",
        "        \"\"\"Reads a tab separated value file.\"\"\"\n",
        "        print(\"INPUT file is \",input_file)\n",
        "        with open(input_file, \"r\", encoding=\"utf-8\") as f:\n",
        "#             reader = csv.reader(f, delimiter=\",\", quotechar=quotechar)\n",
        "            reader = pd.read_csv(input_file).values.tolist()\n",
        "            lines = []\n",
        "            for line in reader:\n",
        "                if sys.version_info[0] == 2:\n",
        "                    line = list(unicode(cell, 'utf-8') for cell in line)\n",
        "                lines.append(line)\n",
        "            return lines"
      ],
      "execution_count": 0,
      "outputs": []
    },
    {
      "cell_type": "code",
      "metadata": {
        "id": "bxukIC7ZJKf2",
        "colab_type": "code",
        "colab": {}
      },
      "source": [
        "\n",
        "\n",
        "class ScriProcessor(DataProcessor):\n",
        "    \"\"\"Processor for the SCRI dataset.\"\"\"\n",
        "\n",
        "    def get_train_examples(self, data_dir):\n",
        "        \"\"\"See base class.\"\"\"\n",
        "        return self._create_examples(\n",
        "            self._read_csv(os.path.join(data_dir, \"train.csv\")), \"train\")\n",
        "\n",
        "    def get_dev_examples(self, data_dir):\n",
        "        \"\"\"See base class.\"\"\"\n",
        "        return self._create_examples(\n",
        "            self._read_csv(os.path.join(data_dir, \"val.csv\")), \"val\")\n",
        "  \n",
        "    def get_test_examples(self, data_dir):\n",
        "        \"\"\"See base class.\"\"\"\n",
        "        return self._create_examples(\n",
        "            self._read_csv(os.path.join(data_dir, \"test.csv\")), \"test\")\n",
        "\n",
        "    def get_task1_labels(self):\n",
        "        \"\"\"See base class. We show labels here\"\"\"\n",
        "        ''' '0',\n",
        "           'Confidentiality',\n",
        "           'Finance',\n",
        "           'Intelectual Property',\n",
        "           'Legal',\n",
        "           'Non Compete',\n",
        "           'Non Solicitation',\n",
        "           'Others',\n",
        "           'Scope',\n",
        "           'Sub Contract'\n",
        "          '''\n",
        "        return ['Confidentiality','Finance','Intelectual Property','Legal','Non Compete','Non Solicitation','Others','Scope','Sub Contract']   \n",
        "\n",
        "    def get_task2_labels(self):\n",
        "        \"\"\"See base class. We show labels here\"\"\"\n",
        "        ''' '0',\n",
        "           '1'\n",
        "          '''\n",
        "        return ['0','1']   \n",
        "      \n",
        "      \n",
        "      \n",
        "    def _create_examples(self, lines, set_type):\n",
        "        \"\"\"Creates examples for the training and dev sets.\"\"\"\n",
        "        examples = []\n",
        "        for (i, line) in enumerate(lines):\n",
        "            if i == 0:\n",
        "                continue\n",
        "            guid = \"%s-%s\" % (set_type, i)\n",
        "            text_a = line[1]\n",
        "            text_a = cleanse_text(text_a)   ## Additionally created. For Test data conversion.\n",
        "            task1_label=None\n",
        "            if set_type!='test':\n",
        "              task2_label = line[2]\n",
        "              task1_label = line[3]\n",
        "            else:\n",
        "              pass\n",
        "\n",
        "            examples.append(\n",
        "                InputExample(guid=guid, text_a=text_a, text_b=None, task1_label=task1_label,task2_label = task2_label))\n",
        "        return examples"
      ],
      "execution_count": 0,
      "outputs": []
    },
    {
      "cell_type": "code",
      "metadata": {
        "id": "fUBUWN6WL7IS",
        "colab_type": "code",
        "colab": {}
      },
      "source": [
        "def convert_examples_to_features(examples, task1_label_list,task2_label_list, max_seq_length,\n",
        "                                 tokenizer, output_mode):\n",
        "    \"\"\"Loads a data file into a list of `InputBatch`s.\"\"\"\n",
        "\n",
        "    task1_label_map = {label : i for i, label in enumerate(task1_label_list)}\n",
        "    task2_label_map = {label : i for i, label in enumerate(task2_label_list)}\n",
        "\n",
        "    features = []\n",
        "    for (ex_index, example) in enumerate(examples):\n",
        "        if ex_index % 10000 == 0:\n",
        "            logger.info(\"Writing example %d of %d\" % (ex_index, len(examples)))\n",
        "\n",
        "        tokens_a = tokenizer.tokenize(example.text_a)\n",
        "\n",
        "        tokens_b = None\n",
        "        if example.text_b:\n",
        "            tokens_b = tokenizer.tokenize(example.text_b)\n",
        "            # Modifies `tokens_a` and `tokens_b` in place so that the total\n",
        "            # length is less than the specified length.\n",
        "            # Account for [CLS], [SEP], [SEP] with \"- 3\"\n",
        "            _truncate_seq_pair(tokens_a, tokens_b, max_seq_length - 3)\n",
        "        else:\n",
        "            # Account for [CLS] and [SEP] with \"- 2\"\n",
        "            if len(tokens_a) > max_seq_length - 2:\n",
        "                tokens_a = tokens_a[:(max_seq_length - 2)]\n",
        "\n",
        "        # The convention in BERT is:\n",
        "        # (a) For sequence pairs:\n",
        "        #  tokens:   [CLS] is this jack ##son ##ville ? [SEP] no it is not . [SEP]\n",
        "        #  type_ids: 0   0  0    0    0     0       0 0    1  1  1  1   1 1\n",
        "        # (b) For single sequences:\n",
        "        #  tokens:   [CLS] the dog is hairy . [SEP]\n",
        "        #  type_ids: 0   0   0   0  0     0 0\n",
        "        #\n",
        "        # Where \"type_ids\" are used to indicate whether this is the first\n",
        "        # sequence or the second sequence. The embedding vectors for `type=0` and\n",
        "        # `type=1` were learned during pre-training and are added to the wordpiece\n",
        "        # embedding vector (and position vector). This is not *strictly* necessary\n",
        "        # since the [SEP] token unambiguously separates the sequences, but it makes\n",
        "        # it easier for the model to learn the concept of sequences.\n",
        "        #\n",
        "        # For classification tasks, the first vector (corresponding to [CLS]) is\n",
        "        # used as as the \"sentence vector\". Note that this only makes sense because\n",
        "        # the entire model is fine-tuned.\n",
        "        tokens = [\"[CLS]\"] + tokens_a + [\"[SEP]\"]\n",
        "        segment_ids = [0] * len(tokens)\n",
        "\n",
        "        if tokens_b:\n",
        "            tokens += tokens_b + [\"[SEP]\"]\n",
        "            segment_ids += [1] * (len(tokens_b) + 1)\n",
        "\n",
        "        input_ids = tokenizer.convert_tokens_to_ids(tokens)\n",
        "\n",
        "        # The mask has 1 for real tokens and 0 for padding tokens. Only real\n",
        "        # tokens are attended to.\n",
        "        input_mask = [1] * len(input_ids)\n",
        "\n",
        "        # Zero-pad up to the sequence length.\n",
        "        padding = [0] * (max_seq_length - len(input_ids))\n",
        "        input_ids += padding\n",
        "        input_mask += padding\n",
        "        segment_ids += padding\n",
        "\n",
        "        assert len(input_ids) == max_seq_length\n",
        "        assert len(input_mask) == max_seq_length\n",
        "        assert len(segment_ids) == max_seq_length\n",
        "        \n",
        "        \n",
        "        if output_mode == \"classification\":\n",
        "            \n",
        "            task1_label_id = None\n",
        "            task2_label_id = None\n",
        "            if not 'test' in example.guid:   # Becuase we don't have labels in TEST\n",
        "              task1_label_id = task1_label_map[example.task1_label]\n",
        "              task2_label_id = task2_label_map[str(int(example.task2_label))]\n",
        "            \n",
        "        elif output_mode == \"regression\":\n",
        "            label_id=None\n",
        "            if not 'test' in example.guid:\n",
        "              \n",
        "              label_id = float(example.label)\n",
        "        else:\n",
        "            raise KeyError(output_mode)\n",
        "\n",
        "        if ex_index < 5:\n",
        "            logger.info(\"*** Example ***\")\n",
        "            logger.info(\"guid: %s\" % (example.guid))\n",
        "            logger.info(\"tokens: %s\" % \" \".join(\n",
        "                    [str(x) for x in tokens]))\n",
        "            logger.info(\"input_ids: %s\" % \" \".join([str(x) for x in input_ids]))\n",
        "            logger.info(\"input_mask: %s\" % \" \".join([str(x) for x in input_mask]))\n",
        "            logger.info(\n",
        "                    \"segment_ids: %s\" % \" \".join([str(x) for x in segment_ids]))\n",
        "#             logger.info(\"label: %s (id = %d)\" % (example.label, label_id))\n",
        "\n",
        "        features.append(\n",
        "                InputFeatures(input_ids=input_ids,\n",
        "                              input_mask=input_mask,\n",
        "                              segment_ids=segment_ids,\n",
        "                              task1_label_id=task1_label_id,task2_label_id = task2_label_id))\n",
        "    return features"
      ],
      "execution_count": 0,
      "outputs": []
    },
    {
      "cell_type": "code",
      "metadata": {
        "id": "qqCHiBvaNavs",
        "colab_type": "code",
        "colab": {}
      },
      "source": [
        "def _truncate_seq_pair(tokens_a, tokens_b, max_length):\n",
        "    \"\"\"Truncates a sequence pair in place to the maximum length.\"\"\"\n",
        "\n",
        "    # This is a simple heuristic which will always truncate the longer sequence\n",
        "    # one token at a time. This makes more sense than truncating an equal percent\n",
        "    # of tokens from each, since if one sequence is very short then each token\n",
        "    # that's truncated likely contains more information than a longer sequence.\n",
        "    while True:\n",
        "        total_length = len(tokens_a) + len(tokens_b)\n",
        "        if total_length <= max_length:\n",
        "            break\n",
        "        if len(tokens_a) > len(tokens_b):\n",
        "            tokens_a.pop()\n",
        "        else:\n",
        "            tokens_b.pop()\n"
      ],
      "execution_count": 0,
      "outputs": []
    },
    {
      "cell_type": "code",
      "metadata": {
        "id": "5DqIvPwVNich",
        "colab_type": "code",
        "colab": {}
      },
      "source": [
        "def simple_accuracy(preds, labels):\n",
        "    return (preds == labels).mean()\n",
        "\n",
        "\n",
        "def acc_and_f1(preds, labels,avg_type = 'weighted'):\n",
        "    acc = simple_accuracy(preds, labels)\n",
        "    f1 = f1_score(y_true=labels, y_pred=preds,average=avg_type)\n",
        "    return {\n",
        "        \"acc\": acc,\n",
        "        \"f1\": f1,\n",
        "        \"acc_and_f1\": (acc + f1) / 2,\n",
        "    }\n",
        "\n",
        "\n",
        "\n",
        "def pearson_and_spearman(preds, labels):\n",
        "    pearson_corr = pearsonr(preds, labels)[0]\n",
        "    spearman_corr = spearmanr(preds, labels)[0]\n",
        "    return {\n",
        "        \"pearson\": pearson_corr,\n",
        "        \"spearmanr\": spearman_corr,\n",
        "        \"corr\": (pearson_corr + spearman_corr) / 2,\n",
        "        }\n",
        "\n",
        "\n",
        "def compute_metrics(task_name, preds, labels):\n",
        "    assert len(preds) == len(labels)\n",
        "    if task_name == \"cola\":\n",
        "        return {\"mcc\": matthews_corrcoef(labels, preds)}\n",
        "    elif task_name == \"sst-2\":\n",
        "        return {\"acc\": simple_accuracy(preds, labels)}\n",
        "    elif task_name == \"mrpc\":\n",
        "        return acc_and_f1(preds, labels)\n",
        "    elif task_name == \"sts-b\":\n",
        "        return pearson_and_spearman(preds, labels)\n",
        "    elif task_name == \"qqp\":\n",
        "        return acc_and_f1(preds, labels)\n",
        "    elif task_name == \"mnli\":\n",
        "        return {\"acc\": simple_accuracy(preds, labels)}\n",
        "    elif task_name == \"mnli-mm\":\n",
        "        return {\"acc\": simple_accuracy(preds, labels)}\n",
        "    elif task_name == \"qnli\":\n",
        "        return {\"acc\": simple_accuracy(preds, labels)}\n",
        "    elif task_name == \"rte\":\n",
        "        return {\"acc\": simple_accuracy(preds, labels)}\n",
        "    elif task_name == \"wnli\":\n",
        "        return {\"acc\": simple_accuracy(preds, labels)}\n",
        "      \n",
        "    else:\n",
        "        raise KeyError(task_name)"
      ],
      "execution_count": 0,
      "outputs": []
    },
    {
      "cell_type": "code",
      "metadata": {
        "id": "SjUkG1vgNiox",
        "colab_type": "code",
        "colab": {}
      },
      "source": [
        "processors = {\n",
        "    \"scri\": ScriProcessor\n",
        "}\n",
        "\n",
        "output_modes = {\n",
        "        \"scri\": \"classification\",\n",
        "}\n",
        "\n",
        "\n",
        "\n",
        "\n",
        "# Setup GPU parameters\n",
        "\n",
        "if args[\"local_rank\"] == -1 or args[\"no_cuda\"]:\n",
        "    device = torch.device(\"cuda\" if torch.cuda.is_available() and not args[\"no_cuda\"] else \"cpu\")\n",
        "    n_gpu = torch.cuda.device_count()\n",
        "#     n_gpu = 1\n",
        "else:\n",
        "    torch.cuda.set_device(args['local_rank'])\n",
        "    device = torch.device(\"cuda\", args['local_rank'])\n",
        "    n_gpu = 1\n",
        "    # Initializes the distributed backend which will take care of sychronizing nodes/GPUs\n",
        "    torch.distributed.init_process_group(backend='nccl')\n",
        "logger.info(\"device: {} n_gpu: {}, distributed training: {}, 16-bits training: {}\".format(\n",
        "        device, n_gpu, bool(args['local_rank'] != -1), args['fp16']))\n"
      ],
      "execution_count": 0,
      "outputs": []
    },
    {
      "cell_type": "code",
      "metadata": {
        "id": "Tdnr8gsEO747",
        "colab_type": "code",
        "colab": {}
      },
      "source": [
        "args['train_batch_size'] = int(args['train_batch_size'] / args['gradient_accumulation_steps'])\n",
        "random.seed(args['seed'])\n",
        "np.random.seed(args['seed'])\n",
        "torch.manual_seed(args['seed'])\n",
        "if n_gpu > 0:\n",
        "    torch.cuda.manual_seed_all(args['seed'])"
      ],
      "execution_count": 0,
      "outputs": []
    },
    {
      "cell_type": "code",
      "metadata": {
        "id": "HKSm-y0jO771",
        "colab_type": "code",
        "outputId": "d45a8e32-e60e-4a2a-939b-f8fec647073f",
        "colab": {
          "base_uri": "https://localhost:8080/",
          "height": 230
        }
      },
      "source": [
        "task_name = args['task_name'].lower()\n",
        "\n",
        "if task_name not in processors:\n",
        "    raise ValueError(\"Task not found: %s\" % (task_name))"
      ],
      "execution_count": 0,
      "outputs": [
        {
          "output_type": "error",
          "ename": "NameError",
          "evalue": "ignored",
          "traceback": [
            "\u001b[0;31m---------------------------------------------------------------------------\u001b[0m",
            "\u001b[0;31mNameError\u001b[0m                                 Traceback (most recent call last)",
            "\u001b[0;32m<ipython-input-20-10ad5ef934cc>\u001b[0m in \u001b[0;36m<module>\u001b[0;34m()\u001b[0m\n\u001b[0;32m----> 1\u001b[0;31m \u001b[0mtask_name\u001b[0m \u001b[0;34m=\u001b[0m \u001b[0margs\u001b[0m\u001b[0;34m[\u001b[0m\u001b[0;34m'task_name'\u001b[0m\u001b[0;34m]\u001b[0m\u001b[0;34m.\u001b[0m\u001b[0mlower\u001b[0m\u001b[0;34m(\u001b[0m\u001b[0;34m)\u001b[0m\u001b[0;34m\u001b[0m\u001b[0;34m\u001b[0m\u001b[0m\n\u001b[0m\u001b[1;32m      2\u001b[0m \u001b[0;34m\u001b[0m\u001b[0m\n\u001b[1;32m      3\u001b[0m \u001b[0;32mif\u001b[0m \u001b[0mtask_name\u001b[0m \u001b[0;32mnot\u001b[0m \u001b[0;32min\u001b[0m \u001b[0mprocessors\u001b[0m\u001b[0;34m:\u001b[0m\u001b[0;34m\u001b[0m\u001b[0;34m\u001b[0m\u001b[0m\n\u001b[1;32m      4\u001b[0m     \u001b[0;32mraise\u001b[0m \u001b[0mValueError\u001b[0m\u001b[0;34m(\u001b[0m\u001b[0;34m\"Task not found: %s\"\u001b[0m \u001b[0;34m%\u001b[0m \u001b[0;34m(\u001b[0m\u001b[0mtask_name\u001b[0m\u001b[0;34m)\u001b[0m\u001b[0;34m)\u001b[0m\u001b[0;34m\u001b[0m\u001b[0;34m\u001b[0m\u001b[0m\n",
            "\u001b[0;31mNameError\u001b[0m: name 'args' is not defined"
          ]
        }
      ]
    },
    {
      "cell_type": "code",
      "metadata": {
        "id": "zSwS5jQCO7-m",
        "colab_type": "code",
        "outputId": "3b22309a-1994-43ac-ee21-0b71a60aeee2",
        "colab": {
          "base_uri": "https://localhost:8080/",
          "height": 193
        }
      },
      "source": [
        "processor = processors[task_name]()\n",
        "output_mode = output_modes[task_name]"
      ],
      "execution_count": 0,
      "outputs": [
        {
          "output_type": "error",
          "ename": "NameError",
          "evalue": "ignored",
          "traceback": [
            "\u001b[0;31m---------------------------------------------------------------------------\u001b[0m",
            "\u001b[0;31mNameError\u001b[0m                                 Traceback (most recent call last)",
            "\u001b[0;32m<ipython-input-21-9cc6b34541a8>\u001b[0m in \u001b[0;36m<module>\u001b[0;34m()\u001b[0m\n\u001b[0;32m----> 1\u001b[0;31m \u001b[0mprocessor\u001b[0m \u001b[0;34m=\u001b[0m \u001b[0mprocessors\u001b[0m\u001b[0;34m[\u001b[0m\u001b[0mtask_name\u001b[0m\u001b[0;34m]\u001b[0m\u001b[0;34m(\u001b[0m\u001b[0;34m)\u001b[0m\u001b[0;34m\u001b[0m\u001b[0;34m\u001b[0m\u001b[0m\n\u001b[0m\u001b[1;32m      2\u001b[0m \u001b[0moutput_mode\u001b[0m \u001b[0;34m=\u001b[0m \u001b[0moutput_modes\u001b[0m\u001b[0;34m[\u001b[0m\u001b[0mtask_name\u001b[0m\u001b[0;34m]\u001b[0m\u001b[0;34m\u001b[0m\u001b[0;34m\u001b[0m\u001b[0m\n",
            "\u001b[0;31mNameError\u001b[0m: name 'processors' is not defined"
          ]
        }
      ]
    },
    {
      "cell_type": "code",
      "metadata": {
        "id": "qFk8pDB2O72I",
        "colab_type": "code",
        "outputId": "12b8e093-84c4-4b40-8cd2-866e2dca1dc4",
        "colab": {
          "base_uri": "https://localhost:8080/",
          "height": 230
        }
      },
      "source": [
        "task1_label_list = processor.get_task1_labels()\n",
        "task1_num_labels = len(task1_label_list)\n",
        "task2_label_list = processor.get_task2_labels()\n",
        "task2_num_labels = len(task2_label_list)"
      ],
      "execution_count": 0,
      "outputs": [
        {
          "output_type": "error",
          "ename": "NameError",
          "evalue": "ignored",
          "traceback": [
            "\u001b[0;31m---------------------------------------------------------------------------\u001b[0m",
            "\u001b[0;31mNameError\u001b[0m                                 Traceback (most recent call last)",
            "\u001b[0;32m<ipython-input-22-b58c408b8698>\u001b[0m in \u001b[0;36m<module>\u001b[0;34m()\u001b[0m\n\u001b[0;32m----> 1\u001b[0;31m \u001b[0mtask1_label_list\u001b[0m \u001b[0;34m=\u001b[0m \u001b[0mprocessor\u001b[0m\u001b[0;34m.\u001b[0m\u001b[0mget_task1_labels\u001b[0m\u001b[0;34m(\u001b[0m\u001b[0;34m)\u001b[0m\u001b[0;34m\u001b[0m\u001b[0;34m\u001b[0m\u001b[0m\n\u001b[0m\u001b[1;32m      2\u001b[0m \u001b[0mtask1_num_labels\u001b[0m \u001b[0;34m=\u001b[0m \u001b[0mlen\u001b[0m\u001b[0;34m(\u001b[0m\u001b[0mtask1_label_list\u001b[0m\u001b[0;34m)\u001b[0m\u001b[0;34m\u001b[0m\u001b[0;34m\u001b[0m\u001b[0m\n\u001b[1;32m      3\u001b[0m \u001b[0mtask2_label_list\u001b[0m \u001b[0;34m=\u001b[0m \u001b[0mprocessor\u001b[0m\u001b[0;34m.\u001b[0m\u001b[0mget_task2_labels\u001b[0m\u001b[0;34m(\u001b[0m\u001b[0;34m)\u001b[0m\u001b[0;34m\u001b[0m\u001b[0;34m\u001b[0m\u001b[0m\n\u001b[1;32m      4\u001b[0m \u001b[0mtask2_num_labels\u001b[0m \u001b[0;34m=\u001b[0m \u001b[0mlen\u001b[0m\u001b[0;34m(\u001b[0m\u001b[0mtask2_label_list\u001b[0m\u001b[0;34m)\u001b[0m\u001b[0;34m\u001b[0m\u001b[0;34m\u001b[0m\u001b[0m\n",
            "\u001b[0;31mNameError\u001b[0m: name 'processor' is not defined"
          ]
        }
      ]
    },
    {
      "cell_type": "code",
      "metadata": {
        "id": "yLprUcmSVMMm",
        "colab_type": "code",
        "colab": {}
      },
      "source": [
        "never_split = [\"[UNK]\", \"[SEP]\", \"[PAD]\", \"[CLS]\", \"[MASK]\",\"<oaps>\",\"<eaps>\",\"<oprs>\",\"<eprs>\",\"<oaps>\",\"<aps>\",\"<ocase>\",\"</ocase>\",\"<wcase>\",\"</wcase>\",]\n",
        "tokenizer = BertTokenizer.from_pretrained(args['bert_model'], do_lower_case=args['do_lower_case'],never_split=never_split)\n",
        "\n"
      ],
      "execution_count": 0,
      "outputs": []
    },
    {
      "cell_type": "code",
      "metadata": {
        "id": "jZ6HVn4CV5TN",
        "colab_type": "code",
        "colab": {}
      },
      "source": [
        "train_examples = None\n",
        "num_train_steps = None\n",
        "if args['do_train']:\n",
        "    train_examples = processor.get_train_examples(args['data_dir'])\n",
        "#     train_examples = processor.get_train_examples(args['data_dir'], size=args['train_size'])\n",
        "    num_train_steps = int(\n",
        "        len(train_examples) / args['train_batch_size'] / args['gradient_accumulation_steps']) * args['num_train_epochs']\n",
        "\n"
      ],
      "execution_count": 0,
      "outputs": []
    },
    {
      "cell_type": "code",
      "metadata": {
        "id": "3kTRLy5oWTaz",
        "colab_type": "code",
        "colab": {}
      },
      "source": [
        "\n",
        "model_state_dict = None      # If you want to retrain a trained model, then model_state_dict stores the torch trained model\n",
        "\n",
        "\n",
        "\n",
        "# Prepare model\n",
        "def get_model():\n",
        "#     pdb.set_trace()\n",
        "    if model_state_dict:\n",
        "        model = BertForMultiTaskSequenceClassification.from_pretrained(args['bert_model'], task1_num_labels = task1_num_labels, task2_num_labels = task2_num_labels, state_dict=model_state_dict,cache_dir=args['cache_dir'])\n",
        "    else:\n",
        "        model = BertForMultiTaskSequenceClassification.from_pretrained(args['bert_model'], task1_num_labels = task1_num_labels,task2_num_labels = task2_num_labels,cache_dir=args['cache_dir'])\n",
        "    return model\n",
        "\n",
        "model = get_model()\n",
        "\n",
        "if args['fp16']:\n",
        "    model.half()\n",
        "model.to(device)\n",
        "if args['local_rank'] != -1:\n",
        "    try:\n",
        "        from apex.parallel import DistributedDataParallel as DDP\n",
        "    except ImportError:\n",
        "        raise ImportError(\"Please install apex from https://www.github.com/nvidia/apex to use distributed and fp16 training.\")\n",
        "\n",
        "    model = DDP(model)\n",
        "elif n_gpu > 1:\n",
        "    model = torch.nn.DataParallel(model)"
      ],
      "execution_count": 0,
      "outputs": []
    },
    {
      "cell_type": "code",
      "metadata": {
        "id": "FEwOz2VUWTjY",
        "colab_type": "code",
        "colab": {}
      },
      "source": [
        "\n",
        "from torch.optim.lr_scheduler import _LRScheduler, Optimizer\n",
        "\n",
        "class CyclicLR(object):\n",
        "    \"\"\"Sets the learning rate of each parameter group according to\n",
        "    cyclical learning rate policy (CLR). The policy cycles the learning\n",
        "    rate between two boundaries with a constant frequency, as detailed in\n",
        "    the paper `Cyclical Learning Rates for Training Neural Networks`_.\n",
        "    The distance between the two boundaries can be scaled on a per-iteration\n",
        "    or per-cycle basis.\n",
        "    Cyclical learning rate policy changes the learning rate after every batch.\n",
        "    `batch_step` should be called after a batch has been used for training.\n",
        "    To resume training, save `last_batch_iteration` and use it to instantiate `CycleLR`.\n",
        "    This class has three built-in policies, as put forth in the paper:\n",
        "    \"triangular\":\n",
        "        A basic triangular cycle w/ no amplitude scaling.\n",
        "    \"triangular2\":\n",
        "        A basic triangular cycle that scales initial amplitude by half each cycle.\n",
        "    \"exp_range\":\n",
        "        A cycle that scales initial amplitude by gamma**(cycle iterations) at each\n",
        "        cycle iteration.\n",
        "    This implementation was adapted from the github repo: `bckenstler/CLR`_\n",
        "    Args:\n",
        "        optimizer (Optimizer): Wrapped optimizer.\n",
        "        base_lr (float or list): Initial learning rate which is the\n",
        "            lower boundary in the cycle for eachparam groups.\n",
        "            Default: 0.001\n",
        "        max_lr (float or list): Upper boundaries in the cycle for\n",
        "            each parameter group. Functionally,\n",
        "            it defines the cycle amplitude (max_lr - base_lr).\n",
        "            The lr at any cycle is the sum of base_lr\n",
        "            and some scaling of the amplitude; therefore\n",
        "            max_lr may not actually be reached depending on\n",
        "            scaling function. Default: 0.006\n",
        "        step_size (int): Number of training iterations per\n",
        "            half cycle. Authors suggest setting step_size\n",
        "            2-8 x training iterations in epoch. Default: 2000\n",
        "        mode (str): One of {triangular, triangular2, exp_range}.\n",
        "            Values correspond to policies detailed above.\n",
        "            If scale_fn is not None, this argument is ignored.\n",
        "            Default: 'triangular'\n",
        "        gamma (float): Constant in 'exp_range' scaling function:\n",
        "            gamma**(cycle iterations)\n",
        "            Default: 1.0\n",
        "        scale_fn (function): Custom scaling policy defined by a single\n",
        "            argument lambda function, where\n",
        "            0 <= scale_fn(x) <= 1 for all x >= 0.\n",
        "            mode paramater is ignored\n",
        "            Default: None\n",
        "        scale_mode (str): {'cycle', 'iterations'}.\n",
        "            Defines whether scale_fn is evaluated on\n",
        "            cycle number or cycle iterations (training\n",
        "            iterations since start of cycle).\n",
        "            Default: 'cycle'\n",
        "        last_batch_iteration (int): The index of the last batch. Default: -1\n",
        "    Example:\n",
        "        >>> optimizer = torch.optim.SGD(model.parameters(), lr=0.1, momentum=0.9)\n",
        "        >>> scheduler = torch.optim.CyclicLR(optimizer)\n",
        "        >>> data_loader = torch.utils.data.DataLoader(...)\n",
        "        >>> for epoch in range(10):\n",
        "        >>>     for batch in data_loader:\n",
        "        >>>         scheduler.batch_step()\n",
        "        >>>         train_batch(...)\n",
        "    .. _Cyclical Learning Rates for Training Neural Networks: https://arxiv.org/abs/1506.01186\n",
        "    .. _bckenstler/CLR: https://github.com/bckenstler/CLR\n",
        "    \"\"\"\n",
        "\n",
        "    def __init__(self, optimizer, base_lr=1e-3, max_lr=6e-3,\n",
        "                 step_size=2000, mode='triangular', gamma=1.,\n",
        "                 scale_fn=None, scale_mode='cycle', last_batch_iteration=-1):\n",
        "\n",
        "#         if not isinstance(optimizer, Optimizer):\n",
        "#             raise TypeError('{} is not an Optimizer'.format(\n",
        "#                 type(optimizer).__name__))\n",
        "        self.optimizer = optimizer\n",
        "\n",
        "        if isinstance(base_lr, list) or isinstance(base_lr, tuple):\n",
        "            if len(base_lr) != len(optimizer.param_groups):\n",
        "                raise ValueError(\"expected {} base_lr, got {}\".format(\n",
        "                    len(optimizer.param_groups), len(base_lr)))\n",
        "            self.base_lrs = list(base_lr)\n",
        "        else:\n",
        "            self.base_lrs = [base_lr] * len(optimizer.param_groups)\n",
        "\n",
        "        if isinstance(max_lr, list) or isinstance(max_lr, tuple):\n",
        "            if len(max_lr) != len(optimizer.param_groups):\n",
        "                raise ValueError(\"expected {} max_lr, got {}\".format(\n",
        "                    len(optimizer.param_groups), len(max_lr)))\n",
        "            self.max_lrs = list(max_lr)\n",
        "        else:\n",
        "            self.max_lrs = [max_lr] * len(optimizer.param_groups)\n",
        "\n",
        "        self.step_size = step_size\n",
        "\n",
        "        if mode not in ['triangular', 'triangular2', 'exp_range'] \\\n",
        "                and scale_fn is None:\n",
        "            raise ValueError('mode is invalid and scale_fn is None')\n",
        "\n",
        "        self.mode = mode\n",
        "        self.gamma = gamma\n",
        "\n",
        "        if scale_fn is None:\n",
        "            if self.mode == 'triangular':\n",
        "                self.scale_fn = self._triangular_scale_fn\n",
        "                self.scale_mode = 'cycle'\n",
        "            elif self.mode == 'triangular2':\n",
        "                self.scale_fn = self._triangular2_scale_fn\n",
        "                self.scale_mode = 'cycle'\n",
        "            elif self.mode == 'exp_range':\n",
        "                self.scale_fn = self._exp_range_scale_fn\n",
        "                self.scale_mode = 'iterations'\n",
        "        else:\n",
        "            self.scale_fn = scale_fn\n",
        "            self.scale_mode = scale_mode\n",
        "\n",
        "        self.batch_step(last_batch_iteration + 1)\n",
        "        self.last_batch_iteration = last_batch_iteration\n",
        "\n",
        "    def batch_step(self, batch_iteration=None):\n",
        "        if batch_iteration is None:\n",
        "            batch_iteration = self.last_batch_iteration + 1\n",
        "        self.last_batch_iteration = batch_iteration\n",
        "        for param_group, lr in zip(self.optimizer.param_groups, self.get_lr()):\n",
        "            param_group['lr'] = lr\n",
        "\n",
        "    def _triangular_scale_fn(self, x):\n",
        "        return 1.\n",
        "\n",
        "    def _triangular2_scale_fn(self, x):\n",
        "        return 1 / (2. ** (x - 1))\n",
        "\n",
        "    def _exp_range_scale_fn(self, x):\n",
        "        return self.gamma**(x)\n",
        "\n",
        "    def get_lr(self):\n",
        "        step_size = float(self.step_size)\n",
        "        cycle = np.floor(1 + self.last_batch_iteration / (2 * step_size))\n",
        "        x = np.abs(self.last_batch_iteration / step_size - 2 * cycle + 1)\n",
        "\n",
        "        lrs = []\n",
        "        param_lrs = zip(self.optimizer.param_groups, self.base_lrs, self.max_lrs)\n",
        "        for param_group, base_lr, max_lr in param_lrs:\n",
        "            base_height = (max_lr - base_lr) * np.maximum(0, (1 - x))\n",
        "            if self.scale_mode == 'cycle':\n",
        "                lr = base_lr + base_height * self.scale_fn(cycle)\n",
        "            else:\n",
        "                lr = base_lr + base_height * self.scale_fn(self.last_batch_iteration)\n",
        "            lrs.append(lr)\n",
        "        return lrs\n",
        "\n"
      ],
      "execution_count": 0,
      "outputs": []
    },
    {
      "cell_type": "code",
      "metadata": {
        "id": "T1Z2PnPaWTgQ",
        "colab_type": "code",
        "colab": {}
      },
      "source": [
        "if args['do_train']:\n",
        "  # Prepare optimizer\n",
        "  param_optimizer = list(model.named_parameters())\n",
        "  no_decay = ['bias', 'LayerNorm.bias', 'LayerNorm.weight']\n",
        "  optimizer_grouped_parameters = [\n",
        "      {'params': [p for n, p in param_optimizer if not any(nd in n for nd in no_decay)], 'weight_decay': 0.01},\n",
        "      {'params': [p for n, p in param_optimizer if any(nd in n for nd in no_decay)], 'weight_decay': 0.0}\n",
        "      ]\n",
        "  t_total = num_train_steps\n",
        "  if args['local_rank'] != -1:\n",
        "      t_total = t_total // torch.distributed.get_world_size()\n",
        "  if args['fp16']:\n",
        "      try:\n",
        "          from apex.optimizers import FP16_Optimizer\n",
        "          from apex.optimizers import FusedAdam\n",
        "      except ImportError:\n",
        "          raise ImportError(\"Please install apex from https://www.github.com/nvidia/apex to use distributed and fp16 training.\")\n",
        "\n",
        "      optimizer = FusedAdam(optimizer_grouped_parameters,\n",
        "                            lr=args['learning_rate'],\n",
        "                            bias_correction=False,\n",
        "                            max_grad_norm=1.0)\n",
        "      if args['loss_scale'] == 0:\n",
        "          optimizer = FP16_Optimizer(optimizer, dynamic_loss_scale=True)\n",
        "      else:\n",
        "          optimizer = FP16_Optimizer(optimizer, static_loss_scale=args['loss_scale'])\n",
        "      warmup_linear = WarmupLinearSchedule(warmup=args.warmup_proportion,t_total=num_train_steps)\n",
        "  else:\n",
        "\n",
        "      optimizer = BertAdam(optimizer_grouped_parameters,\n",
        "                           lr=args['learning_rate'],\n",
        "                           warmup=args['warmup_proportion'],\n",
        "                           t_total=t_total)\n",
        "      print(\"BERT optimizer is used\")\n",
        "\n",
        "  scheduler = CyclicLR(optimizer, base_lr=2e-5, max_lr=5e-5, step_size=2500, last_batch_iteration=0)\n",
        "\n"
      ],
      "execution_count": 0,
      "outputs": []
    },
    {
      "cell_type": "code",
      "metadata": {
        "id": "Ici3W7W31MeJ",
        "colab_type": "code",
        "colab": {}
      },
      "source": [
        "def warmup_linear_self(x, warmup=0.002):\n",
        "    if x < warmup:\n",
        "        return x/warmup\n",
        "    return 1.0 - x"
      ],
      "execution_count": 0,
      "outputs": []
    },
    {
      "cell_type": "markdown",
      "metadata": {
        "id": "dK4ow6bBd671",
        "colab_type": "text"
      },
      "source": [
        "## Load Training Data"
      ]
    },
    {
      "cell_type": "code",
      "metadata": {
        "id": "-dst5ZmzWTeC",
        "colab_type": "code",
        "colab": {}
      },
      "source": [
        "global_step = 0\n",
        "nb_tr_steps = 0\n",
        "tr_loss = 0\n",
        "\n",
        "if args['do_train']:\n",
        "  train_features = convert_examples_to_features(train_examples, task1_label_list,task2_label_list, args['max_seq_length'], tokenizer,output_mode)\n",
        "\n",
        "  logger.info(\"***** Running training *****\")\n",
        "  logger.info(\"  Num examples = %d\", len(train_examples))\n",
        "  logger.info(\"  Batch size = %d\", args['train_batch_size'])\n",
        "  logger.info(\"  Num steps = %d\", num_train_steps)\n",
        "  \n",
        "\n",
        "  all_input_ids = torch.tensor([f.input_ids for f in train_features], dtype=torch.long)\n",
        "  all_input_mask = torch.tensor([f.input_mask for f in train_features], dtype=torch.long)\n",
        "  all_segment_ids = torch.tensor([f.segment_ids for f in train_features], dtype=torch.long)\n",
        "\n",
        "  if output_mode == \"classification\":\n",
        "    all_task1_label_ids = torch.tensor([f.task1_label_id for f in train_features], dtype=torch.long)\n",
        "    all_task2_label_ids = torch.tensor([f.task2_label_id for f in train_features], dtype=torch.long)\n",
        "  elif output_mode == \"regression\":\n",
        "    all_label_ids = torch.tensor([f.label_id for f in train_features], dtype=torch.float)\n",
        "    \n",
        "  train_data = TensorDataset(all_input_ids, all_input_mask, all_segment_ids, all_task1_label_ids,all_task2_label_ids)\n",
        "  if args['local_rank'] == -1:\n",
        "      train_sampler = RandomSampler(train_data)\n",
        "  else:\n",
        "      train_sampler = DistributedSampler(train_data)\n",
        "  train_dataloader = DataLoader(train_data, sampler=train_sampler, batch_size=args['train_batch_size'])"
      ],
      "execution_count": 0,
      "outputs": []
    },
    {
      "cell_type": "code",
      "metadata": {
        "id": "wVcHeLYfzern",
        "colab_type": "code",
        "colab": {}
      },
      "source": [
        "print(task1_num_labels)\n",
        "task2_num_labels"
      ],
      "execution_count": 0,
      "outputs": []
    },
    {
      "cell_type": "markdown",
      "metadata": {
        "id": "qZVBOhJrfmVU",
        "colab_type": "text"
      },
      "source": [
        "## Training the model"
      ]
    },
    {
      "cell_type": "code",
      "metadata": {
        "id": "-MmaxBv1vWaz",
        "colab_type": "code",
        "colab": {}
      },
      "source": [
        "!pip install livelossplot\n",
        "from livelossplot import PlotLosses"
      ],
      "execution_count": 0,
      "outputs": []
    },
    {
      "cell_type": "code",
      "metadata": {
        "id": "JD0NBOI9WTXl",
        "colab_type": "code",
        "colab": {}
      },
      "source": [
        "# Eval Fn\n",
        "\n",
        "from tqdm import tqdm_notebook,tqdm\n",
        "\n",
        "args['eval_batch_size'] = 32\n",
        "\n",
        "eval_examples = processor.get_dev_examples(args['data_dir'])\n",
        "def eval():\n",
        "\n",
        "    if not os.path.exists(args['output_dir']):\n",
        "      os.mkdir(args['output_dir'])\n",
        "    \n",
        "    eval_features = convert_examples_to_features(\n",
        "        eval_examples, task1_label_list,task2_label_list, args['max_seq_length'], tokenizer,output_mode=output_mode)\n",
        "    logger.info(\"***** Running evaluation *****\")\n",
        "    logger.info(\"  Num examples = %d\", len(eval_examples))\n",
        "    logger.info(\"  Batch size = %d\", args['eval_batch_size'])\n",
        "    all_input_ids = torch.tensor([f.input_ids for f in eval_features], dtype=torch.long)\n",
        "    all_input_mask = torch.tensor([f.input_mask for f in eval_features], dtype=torch.long)\n",
        "    all_segment_ids = torch.tensor([f.segment_ids for f in eval_features], dtype=torch.long)\n",
        "    all_task1_label_ids = torch.tensor([f.task1_label_id for f in eval_features], dtype=torch.long)\n",
        "    all_task2_label_ids = torch.tensor([f.task2_label_id for f in eval_features], dtype=torch.long)\n",
        "    eval_data = TensorDataset(all_input_ids, all_input_mask, all_segment_ids, all_task1_label_ids,all_task2_label_ids)\n",
        "    # Run prediction for full data\n",
        "    eval_sampler = SequentialSampler(eval_data)\n",
        "    eval_dataloader = DataLoader(eval_data, sampler=eval_sampler, batch_size=args['eval_batch_size'])\n",
        "    \n",
        "    all_task1_logits = None\n",
        "    all_task1_labels = None\n",
        "    all_task2_logits = None\n",
        "    all_task2_labels = None\n",
        "    \n",
        "    model.eval()\n",
        "    eval_loss, eval_accuracy = 0, 0\n",
        "    eval_task1_loss, eval_task1_accuracy,eval_task2_loss, eval_task2_accuracy = 0,0,0,0\n",
        "    nb_eval_steps, nb_eval_examples = 0, 0\n",
        "    for input_ids, input_mask, segment_ids, task1_label_ids,task2_label_ids in tqdm_notebook(eval_dataloader,desc=\"evaluating:\"):\n",
        "        input_ids = input_ids.to(device)\n",
        "        input_mask = input_mask.to(device)\n",
        "        segment_ids = segment_ids.to(device)\n",
        "        task1_label_ids = task1_label_ids.to(device)\n",
        "        \n",
        "        task2_label_ids = task2_label_ids.to(device)\n",
        "\n",
        "        with torch.no_grad():\n",
        "            tmp_task1_eval_loss,tmp_task2_eval_loss = model(input_ids, segment_ids, input_mask, task1_label_ids,task2_label_ids)\n",
        "            task1_logits, task2_logits = model(input_ids, segment_ids, input_mask)\n",
        "\n",
        "#             tmp_task2_eval_loss = model(input_ids, segment_ids, input_mask, task2_label_ids,task_name='task2')\n",
        "#             task2_logits = model(input_ids, segment_ids, input_mask,task_name = 'task2')\n",
        "\n",
        "            \n",
        "            \n",
        "#         logits = logits.detach().cpu().numpy()\n",
        "#         label_ids = label_ids.to('cpu').numpy()\n",
        "       \n",
        "#         tmp_eval_accuracy = simple_accuracy(torch.max(logits,1)[1].cpu().numpy(), label_ids.cpu().numpy())\n",
        "#         print(\"Batch acc mean : \",tmp_eval_accuracy)\n",
        "\n",
        "      #         tmp_eval_accuracy = accuracy_thresh(logits, label_ids)\n",
        "      \n",
        "      \n",
        "        if all_task1_logits is None:\n",
        "            all_task1_logits = torch.max(task1_logits,1)[1].detach().cpu().numpy()\n",
        "        else:\n",
        "            all_task1_logits = np.concatenate((all_task1_logits, torch.max(task1_logits,1)[1].detach().cpu().numpy()), axis=0)\n",
        "\n",
        "        if all_task2_logits is None:\n",
        "            all_task2_logits = torch.max(task2_logits,1)[1].detach().cpu().numpy()\n",
        "        else:\n",
        "            all_task2_logits = np.concatenate((all_task2_logits, torch.max(task2_logits,1)[1].detach().cpu().numpy()), axis=0)\n",
        "\n",
        "        if all_task1_labels is None:\n",
        "            all_task1_labels = task1_label_ids.detach().cpu().numpy()\n",
        "        else:    \n",
        "            all_task1_labels = np.concatenate((all_task1_labels, task1_label_ids.detach().cpu().numpy()), axis=0)\n",
        "\n",
        "        if all_task2_labels is None:\n",
        "            all_task2_labels = task2_label_ids.detach().cpu().numpy()\n",
        "        else:    \n",
        "            all_task2_labels = np.concatenate((all_task2_labels, task2_label_ids.detach().cpu().numpy()), axis=0)\n",
        "\n",
        "\n",
        "        eval_task1_loss += tmp_task1_eval_loss.item()\n",
        "        eval_task2_loss += tmp_task2_eval_loss.item()\n",
        "        \n",
        "#         eval_accuracy += tmp_eval_accuracy\n",
        "  \n",
        "        nb_eval_examples += input_ids.size(0)\n",
        "        nb_eval_steps += 1\n",
        "\n",
        "    eval_task1_loss = eval_task1_loss / nb_eval_steps\n",
        "    eval_task2_loss = eval_task2_loss / nb_eval_steps\n",
        "    eval_task1_accuracy = simple_accuracy(all_task1_logits,all_task1_labels)\n",
        "    eval_task1_acf1 = acc_and_f1(all_task1_logits,all_task1_labels)\n",
        "    \n",
        "    eval_task2_accuracy = simple_accuracy(all_task2_logits,all_task2_labels)\n",
        "    eval_task2_acf1 = acc_and_f1(all_task2_logits,all_task2_labels)\n",
        "\n",
        "    \n",
        "    print(\"From evaluation of Task 1 (Risk type),\",eval_task1_loss, eval_task1_accuracy)\n",
        "    print(\" Eval Task 1 acc and f1 and acc+f1/2 is \", eval_task1_acf1)\n",
        "    print(\"From evaluation of Task 2 (Criticality type),\",eval_task2_loss, eval_task2_accuracy)\n",
        "    print(\" Eval Task 2 acc and f1 and acc+f1/2 is \", eval_task2_acf1)\n",
        "    \n",
        "    return eval_task1_loss,eval_task2_loss, eval_task1_accuracy, eval_task2_accuracy\n",
        "    \n",
        "# #     ROC-AUC calcualation\n",
        "#     # Compute ROC curve and ROC area for each class\n",
        "#     fpr = dict()\n",
        "#     tpr = dict()\n",
        "#     roc_auc = dict()\n",
        "    \n",
        "#     for i in range(num_labels):\n",
        "#         fpr[i], tpr[i], _ = roc_curve(all_labels[:, i], all_logits[:, i])\n",
        "#         roc_auc[i] = auc(fpr[i], tpr[i])\n",
        "        \n",
        "#     # Compute micro-average ROC curve and ROC area\n",
        "#     fpr[\"micro\"], tpr[\"micro\"], _ = roc_curve(all_labels.ravel(), all_logits.ravel())\n",
        "#     roc_auc[\"micro\"] = auc(fpr[\"micro\"], tpr[\"micro\"])\n",
        "\n",
        "#     result = {'eval_loss': eval_loss,\n",
        "#               'eval_accuracy': eval_accuracy,\n",
        "# #               'loss': tr_loss/nb_tr_steps,\n",
        "#               'roc_auc': roc_auc  }\n",
        "#     print(\"From evaluation (Otherwise same as train),\",result)\n",
        "#     output_eval_file = os.path.join(args['output_dir'], \"eval_results.txt\")\n",
        "#     with open(output_eval_file, \"w\") as writer:\n",
        "#         logger.info(\"***** Eval results *****\")\n",
        "#         for key in sorted(result.keys()):\n",
        "#             logger.info(\"  %s = %s\", key, str(result[key]))\n",
        "#             writer.write(\"%s = %s\\n\" % (key, str(result[key])))\n",
        "            \n",
        "#     return result"
      ],
      "execution_count": 0,
      "outputs": []
    },
    {
      "cell_type": "code",
      "metadata": {
        "id": "pZEmdMJMp_Dr",
        "colab_type": "code",
        "colab": {}
      },
      "source": [
        "eval()"
      ],
      "execution_count": 0,
      "outputs": []
    },
    {
      "cell_type": "code",
      "metadata": {
        "id": "ptIK6jUAc6uD",
        "colab_type": "code",
        "colab": {}
      },
      "source": [
        "\n",
        "\n",
        "def fit(num_epocs=args['num_train_epochs']):\n",
        "    liveloss = PlotLosses()\n",
        "    \n",
        "    global_step = 0\n",
        "    model.train()\n",
        "    \n",
        "    for i_ in tqdm_notebook(range(int(num_epocs)), desc=\"Epoch\"):\n",
        "        \n",
        "        logs = {} # For plotting the loss, acc live\n",
        "        \n",
        "        tr_loss = 0\n",
        "        nb_tr_examples, nb_tr_steps = 0, 0\n",
        "        for step, batch in enumerate(tqdm_notebook(train_dataloader, desc=\"Iteration\")):\n",
        "\n",
        "            batch = tuple(t.to(device) for t in batch)\n",
        "            input_ids, input_mask, segment_ids, task1_label_ids,task2_label_ids = batch\n",
        "            \n",
        "#             loss = model(input_ids, segment_ids, input_mask, label_ids)\n",
        "              \n",
        "            # define a new function to compute loss values for both output_modes\n",
        "            task1_logits,task2_logits = model(input_ids, segment_ids, input_mask, task1_labels=None,task2_labels=None)\n",
        "            \n",
        "            if output_mode == \"classification\":\n",
        "              loss_fct = CrossEntropyLoss()\n",
        "              task1_loss = loss_fct(task1_logits.view(-1, task1_num_labels), task1_label_ids.view(-1))\n",
        "#               task2_loss_fct = CrossEntropyLoss()\n",
        "              task2_loss = loss_fct(task2_logits.view(-1, task2_num_labels), task2_label_ids.view(-1))\n",
        "              \n",
        "#               print(\"Task 1 and 2 losses are \",task1_loss.item(),task2_loss.item())\n",
        "            elif output_mode == \"regression\":\n",
        "              loss_fct = MSELoss()\n",
        "              loss = loss_fct(logits.view(-1), label_ids.view(-1))              \n",
        "              \n",
        "\n",
        "            loss = task1_loss+task2_loss\n",
        "            if n_gpu > 1:\n",
        "                loss = loss.mean() # mean() to average on multi-gpu.\n",
        "            if args['gradient_accumulation_steps'] > 1:\n",
        "                loss = loss / args['gradient_accumulation_steps']\n",
        "\n",
        "            if args['fp16']:\n",
        "                optimizer.backward(loss)\n",
        "            else:\n",
        "                loss.backward()\n",
        "\n",
        "            tr_loss += loss.item()\n",
        "            nb_tr_examples += input_ids.size(0)\n",
        "            nb_tr_steps += 1\n",
        "            if (step + 1) % args['gradient_accumulation_steps'] == 0:\n",
        "    #             scheduler.batch_step()\n",
        "                # modify learning rate with special warm up BERT uses\n",
        "#                 lr_this_step = args['learning_rate'] * warmup_linear_self(global_step/t_total, args['warmup_proportion'])\n",
        "                \n",
        "  \n",
        "                if args['fp16']:\n",
        "                          # modify learning rate with special warm up BERT uses\n",
        "                          # if args.fp16 is False, BertAdam is used that handles this automatically\n",
        "                  lr_this_step = args['learning_rate'] * warmup_linear.get_lr(global_step, args['warmup_proportion'])\n",
        "                  for param_group in optimizer.param_groups:\n",
        "                      param_group['lr'] = lr_this_step\n",
        "              \n",
        "                optimizer.step()\n",
        "                optimizer.zero_grad()\n",
        "                global_step += 1\n",
        "\n",
        "        logger.info('Loss after epoc {}'.format(tr_loss / nb_tr_steps))\n",
        "        logger.info('Eval after epoc {}'.format(i_+1))\n",
        "        print(\"Loss after epoc {}\".format(tr_loss/nb_tr_steps))\n",
        "        print('Eval after epoc {}'.format(i_+1))\n",
        "\n",
        "        prefix=''\n",
        "        \n",
        "        logs[prefix+'task1_loss']=task1_loss.item()\n",
        "        logs[prefix+'task2_loss']=task2_loss.item()\n",
        "        \n",
        "\n",
        "        prefix = 'val_'        \n",
        "        eval_task1_loss,eval_task2_loss, eval_task1_accuracy, eval_task2_accuracy=eval()\n",
        "        logs[prefix+'task1_loss'] = eval_task1_loss\n",
        "        logs[prefix+'task2_loss'] = eval_task2_loss\n",
        "        logs[prefix+'task2_acc'] = eval_task2_accuracy\n",
        "        logs[prefix+'task1_acc'] = eval_task1_accuracy\n",
        "        liveloss.update(logs)\n",
        "        liveloss.draw()        \n",
        "\n"
      ],
      "execution_count": 0,
      "outputs": []
    },
    {
      "cell_type": "code",
      "metadata": {
        "id": "NoFDE3YLc6q6",
        "colab_type": "code",
        "colab": {}
      },
      "source": [
        "\n",
        "fit()\n",
        "\n",
        "\n",
        "'''\n",
        "if retraining, set warmup_linear = WarmupLinearSchedule(warmup=args.warmup_proportion,t_total=num_train_steps) \n",
        "\n",
        "OR\n",
        "\n",
        "optimizer = BertAdam(optimizer_grouped_parameters,\n",
        "                           lr=args['learning_rate'],\n",
        "                           warmup=args['warmup_proportion'],\n",
        "                           t_total=t_total) otherwise comment it out '''"
      ],
      "execution_count": 0,
      "outputs": []
    },
    {
      "cell_type": "code",
      "metadata": {
        "id": "77eWEqV3pM71",
        "colab_type": "code",
        "colab": {}
      },
      "source": [
        "# eval()"
      ],
      "execution_count": 0,
      "outputs": []
    },
    {
      "cell_type": "code",
      "metadata": {
        "id": "jNEmjNQ8J2U_",
        "colab_type": "code",
        "colab": {}
      },
      "source": [
        "num_epocs=4\n",
        "# warmup_linear = WarmupLinearSchedule(warmup=args['warmup_proportion'],t_total=num_train_steps)\n",
        "optimizer = BertAdam(optimizer_grouped_parameters,\n",
        "                           lr=args['learning_rate'],\n",
        "                           warmup=args['warmup_proportion'],\n",
        "                           t_total=t_total*int(num_epocs/args['num_train_epochs']))\n",
        "\n",
        "fit()"
      ],
      "execution_count": 0,
      "outputs": []
    },
    {
      "cell_type": "code",
      "metadata": {
        "id": "LR4LW8wCWywl",
        "colab_type": "code",
        "colab": {}
      },
      "source": [
        "# eval()"
      ],
      "execution_count": 0,
      "outputs": []
    },
    {
      "cell_type": "markdown",
      "metadata": {
        "id": "x1K9HtK7EBHg",
        "colab_type": "text"
      },
      "source": [
        "### Saving the model, configuration and tokenizer"
      ]
    },
    {
      "cell_type": "code",
      "metadata": {
        "id": "Uv0cXO4NEEam",
        "colab_type": "code",
        "colab": {}
      },
      "source": [
        "# model_to_save = model.module if hasattr(model, 'module') else model  # Only save the model it-self\n",
        "\n",
        "# # If we save using the predefined names, we can load using `from_pretrained`\n",
        "# output_model_file = os.path.join(args.output_dir, WEIGHTS_NAME)\n",
        "# output_config_file = os.path.join(args.output_dir, CONFIG_NAME)\n",
        "\n",
        "# torch.save(model_to_save.state_dict(), output_model_file)\n",
        "# model_to_save.config.to_json_file(output_config_file)\n",
        "# tokenizer.save_vocabulary(args.output_dir)\n",
        "\n",
        "\n",
        "\n",
        "\n",
        "# Save a trained model\n",
        "model_to_save = model.module if hasattr(model, 'module') else model  # Only save the model it-self\n",
        "output_model_file = os.path.join(args['cache_dir'], \"finetuned_pytorch_model.bin\")\n",
        "torch.save(model_to_save.state_dict(), output_model_file)\n",
        "\n",
        "# Load a trained model that you have fine-tuned\n",
        "model_state_dict = torch.load(output_model_file)\n",
        "model = BertForMultiTaskSequenceClassification.from_pretrained(args['bert_model'], num_labels = num_labels, state_dict=model_state_dict)\n",
        "model.to(device)\n",
        "\n"
      ],
      "execution_count": 0,
      "outputs": []
    },
    {
      "cell_type": "code",
      "metadata": {
        "id": "LPgUxyrzipUF",
        "colab_type": "code",
        "colab": {}
      },
      "source": [
        ""
      ],
      "execution_count": 0,
      "outputs": []
    },
    {
      "cell_type": "markdown",
      "metadata": {
        "id": "UcCdduE8D4ds",
        "colab_type": "text"
      },
      "source": [
        "## Complete Evaluation Mode"
      ]
    },
    {
      "cell_type": "code",
      "metadata": {
        "id": "kZoioszddmBA",
        "colab_type": "code",
        "colab": {}
      },
      "source": [
        "eval()"
      ],
      "execution_count": 0,
      "outputs": []
    },
    {
      "cell_type": "code",
      "metadata": {
        "id": "8RO3FL1VD6n8",
        "colab_type": "code",
        "colab": {}
      },
      "source": [
        "\n",
        "'''TEST'''\n",
        "\n",
        "\n",
        "args['eval_batch_size'] = 1\n",
        "\n",
        "# Load a trained model that you have fine-tuned\n",
        "model_state_dict = torch.load(args['cache_dir']+\"/finetuned_pytorch_model.bin\")\n",
        "model = BertForMultiTaskSequenceClassification.from_pretrained(args['bert_model'], num_labels = num_labels, state_dict=model_state_dict)\n",
        "model.to(device)\n",
        "\n",
        "\n",
        "never_split = [\"<oaps>\",\"<eaps>\",\"<oprs>\",\"<eprs>\",\"<oaps>\",\"<aps>\",\"<ocase>\",\"</ocase>\",\"<wcase>\",\"</wcase>\",]\n",
        "tokenizer = BertTokenizer.from_pretrained(args['bert_model'], do_lower_case=args['do_lower_case'],never_split=never_split)\n",
        "\n",
        "\n",
        "\n",
        "def predict(model, path, test_filename='test.csv'):\n",
        "    predict_processor = ScriProcessor()\n",
        "    label_list = predict_processor.get_labels()\n",
        "    label_map = {label : i for i, label in enumerate(label_list)}\n",
        "    test_examples = predict_processor.get_test_examples(path)\n",
        "    \n",
        "    # Hold input data for returning it \n",
        "    input_data = [{ 'id': input_example.guid, 'comment_text': input_example.text_a } for input_example in test_examples]\n",
        "    \n",
        "    \n",
        "    test_features = convert_examples_to_features(\n",
        "        test_examples, label_list, args['max_seq_length'], tokenizer,output_mode=output_mode)\n",
        "    \n",
        "    logger.info(\"***** Running prediction *****\")\n",
        "    logger.info(\"  Num examples = %d\", len(test_examples))\n",
        "    logger.info(\"  Batch size = %d\", args['eval_batch_size'])\n",
        "    \n",
        "    all_input_ids = torch.tensor([f.input_ids for f in test_features], dtype=torch.long)\n",
        "    all_input_mask = torch.tensor([f.input_mask for f in test_features], dtype=torch.long)\n",
        "    all_segment_ids = torch.tensor([f.segment_ids for f in test_features], dtype=torch.long)\n",
        "\n",
        "    test_data = TensorDataset(all_input_ids, all_input_mask, all_segment_ids)\n",
        "    \n",
        "    # Run prediction for full data\n",
        "    test_sampler = SequentialSampler(test_data)\n",
        "    test_dataloader = DataLoader(test_data, sampler=test_sampler, batch_size=args['eval_batch_size'])\n",
        "    \n",
        "    all_logits = None\n",
        "    \n",
        "    model.eval()\n",
        "    eval_loss, eval_accuracy = 0, 0\n",
        "    nb_eval_steps, nb_eval_examples = 0, 0\n",
        "    for step, batch in enumerate(tqdm_notebook(test_dataloader, desc=\"Prediction Iteration\")):\n",
        "        input_ids, input_mask, segment_ids = batch\n",
        "        input_ids = input_ids.to(device)\n",
        "        input_mask = input_mask.to(device)\n",
        "        segment_ids = segment_ids.to(device)\n",
        "\n",
        "        with torch.no_grad():\n",
        "            logits = model(input_ids, segment_ids, input_mask)\n",
        "#             logits = logits.sigmoid()\n",
        "\n",
        "        if all_logits is None:\n",
        "            all_logits = logits.detach().cpu().numpy()\n",
        "        else:\n",
        "            all_logits = np.concatenate((all_logits, logits.detach().cpu().numpy()), axis=0)\n",
        "            \n",
        "        nb_eval_examples += input_ids.size(0)\n",
        "        nb_eval_steps += 1\n",
        "\n",
        "    return pd.merge(pd.DataFrame(input_data), pd.DataFrame(all_logits, columns=label_list), left_index=True, right_index=True)"
      ],
      "execution_count": 0,
      "outputs": []
    },
    {
      "cell_type": "code",
      "metadata": {
        "id": "Uyad6XVG_maB",
        "colab_type": "code",
        "colab": {}
      },
      "source": [
        "!cp data/val.csv data/test.csv"
      ],
      "execution_count": 0,
      "outputs": []
    },
    {
      "cell_type": "code",
      "metadata": {
        "id": "P5crpC1GCyjT",
        "colab_type": "code",
        "colab": {}
      },
      "source": [
        "# predict(model,'data')"
      ],
      "execution_count": 0,
      "outputs": []
    },
    {
      "cell_type": "code",
      "metadata": {
        "id": "qt8-O8rAC1xa",
        "colab_type": "code",
        "colab": {}
      },
      "source": [
        ""
      ],
      "execution_count": 0,
      "outputs": []
    }
  ]
}